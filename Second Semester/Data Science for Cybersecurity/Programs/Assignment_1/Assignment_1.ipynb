{
 "cells": [
  {
   "cell_type": "markdown",
   "metadata": {},
   "source": [
    "# Assignment 1"
   ]
  },
  {
   "cell_type": "markdown",
   "metadata": {},
   "source": [
    "1. Python Program to Find a Series in an Array Consisting of Characters"
   ]
  },
  {
   "cell_type": "code",
   "execution_count": 28,
   "metadata": {},
   "outputs": [
    {
     "name": "stdout",
     "output_type": "stream",
     "text": [
      "found at 11\n"
     ]
    }
   ],
   "source": [
    "array = \"wijwoifjasbabcjasidf\"\n",
    "\n",
    "# find a series of elements (a, b, c) in an array\n",
    " \n",
    "for i in range(len(array)):\n",
    "    if array[i] == 'a':\n",
    "        if array[i+1] == 'b':\n",
    "            if array[i+2] == 'c':\n",
    "                print('found at', i)\n",
    "                break\n",
    "else:\n",
    "    print('not found')"
   ]
  },
  {
   "cell_type": "markdown",
   "metadata": {},
   "source": [
    "2. Python program to find the occurrence of a particular number in an array"
   ]
  },
  {
   "cell_type": "code",
   "execution_count": 4,
   "metadata": {},
   "outputs": [
    {
     "name": "stdout",
     "output_type": "stream",
     "text": [
      "6\n"
     ]
    }
   ],
   "source": [
    "def find_number_in_array(array, number):\n",
    "    for i in range(len(array)):\n",
    "        if array[i] == number:\n",
    "            return i\n",
    "    return -1\n",
    "\n",
    "# example\n",
    "array = [1, 2, 3, 4, 5, 6, 7, 8, 9]\n",
    "number = 7\n",
    "print(find_number_in_array(array, number))"
   ]
  },
  {
   "cell_type": "markdown",
   "metadata": {},
   "source": [
    "3. Find the union and intersection of two arrays in Python\n"
   ]
  },
  {
   "cell_type": "code",
   "execution_count": 5,
   "metadata": {},
   "outputs": [
    {
     "name": "stdout",
     "output_type": "stream",
     "text": [
      "([1, 2, 3, 4, 5, 6, 7, 8, 9, 10, 12, 14, 16], [2, 4, 6, 8])\n"
     ]
    }
   ],
   "source": [
    "def find_union_and_intersection(array1, array2):\n",
    "    union = []\n",
    "    intersection = []\n",
    "    for i in range(len(array1)):\n",
    "        if array1[i] in array2:\n",
    "            intersection.append(array1[i])\n",
    "        union.append(array1[i])\n",
    "    for i in range(len(array2)):\n",
    "        if array2[i] not in array1:\n",
    "            union.append(array2[i])\n",
    "    return union, intersection\n",
    "\n",
    "# example\n",
    "array1 = [1, 2, 3, 4, 5, 6, 7, 8, 9]\n",
    "array2 = [2, 4, 6, 8, 10, 12, 14, 16]\n",
    "print(find_union_and_intersection(array1, array2))"
   ]
  },
  {
   "cell_type": "markdown",
   "metadata": {},
   "source": [
    "4. Create number variables (int, float and complex) and print their types and values in Python\n"
   ]
  },
  {
   "cell_type": "code",
   "execution_count": 6,
   "metadata": {},
   "outputs": [
    {
     "name": "stdout",
     "output_type": "stream",
     "text": [
      "<class 'int'>\n",
      "<class 'float'>\n"
     ]
    }
   ],
   "source": [
    "# creating number variables\n",
    "a = 1\n",
    "b = 2.1\n",
    "print(type(a))\n",
    "print(type(b))"
   ]
  },
  {
   "cell_type": "markdown",
   "metadata": {},
   "source": [
    "5. Python program to print a string, extract characters from the string\n"
   ]
  },
  {
   "cell_type": "code",
   "execution_count": 7,
   "metadata": {},
   "outputs": [
    {
     "name": "stdout",
     "output_type": "stream",
     "text": [
      "['H', 'e', 'l', 'l', 'o', ' ', 'W', 'o', 'r', 'l', 'd', '!']\n"
     ]
    }
   ],
   "source": [
    "def extract_characters(string):\n",
    "    characters = []\n",
    "    for i in range(len(string)):\n",
    "        characters.append(string[i])\n",
    "    return characters\n",
    "\n",
    "# example\n",
    "string = \"Hello World!\"\n",
    "print(extract_characters(string))"
   ]
  },
  {
   "cell_type": "markdown",
   "metadata": {},
   "source": [
    "6. Python Program to print words with their length of a string\n"
   ]
  },
  {
   "cell_type": "code",
   "execution_count": 9,
   "metadata": {},
   "outputs": [
    {
     "name": "stdout",
     "output_type": "stream",
     "text": [
      "Data : 4\n",
      "science : 7\n",
      "with : 4\n",
      "Cyber : 5\n",
      "Security : 8\n"
     ]
    }
   ],
   "source": [
    "def print_words_with_length(string):\n",
    "    words = string.split()\n",
    "    for i in range(len(words)):\n",
    "        print(words[i], \":\", len(words[i]))\n",
    "\n",
    "# example\n",
    "string = \"Data science with Cyber Security\"\n",
    "print_words_with_length(string)"
   ]
  },
  {
   "cell_type": "markdown",
   "metadata": {},
   "source": [
    "7. Python Print EVEN length words\n"
   ]
  },
  {
   "cell_type": "code",
   "execution_count": 10,
   "metadata": {},
   "outputs": [
    {
     "name": "stdout",
     "output_type": "stream",
     "text": [
      "Data\n",
      "with\n",
      "Security\n"
     ]
    }
   ],
   "source": [
    "def print_even_length_words(string):\n",
    "    words = string.split()\n",
    "    for i in range(len(words)):\n",
    "        if len(words[i]) % 2 == 0:\n",
    "            print(words[i])\n",
    "\n",
    "# example\n",
    "string = \"Data science with Cyber Security\"\n",
    "print_even_length_words(string)"
   ]
  },
  {
   "cell_type": "markdown",
   "metadata": {},
   "source": [
    "8. Read contents of the file using readline() method in Python\n"
   ]
  },
  {
   "cell_type": "code",
   "execution_count": 16,
   "metadata": {},
   "outputs": [],
   "source": [
    "!touch test.txt\n",
    "! echo \"Hello World!\" > test.txt"
   ]
  },
  {
   "cell_type": "code",
   "execution_count": 13,
   "metadata": {},
   "outputs": [
    {
     "name": "stdout",
     "output_type": "stream",
     "text": [
      "Hello World!\n",
      "\n"
     ]
    }
   ],
   "source": [
    "with open(\"test.txt\", \"r\") as file:\n",
    "    data = file.read()\n",
    "    print(data)"
   ]
  },
  {
   "cell_type": "markdown",
   "metadata": {},
   "source": [
    "9. Read contents of a file using readline() method and manipulating it in Python\n"
   ]
  },
  {
   "cell_type": "code",
   "execution_count": 17,
   "metadata": {},
   "outputs": [
    {
     "name": "stdout",
     "output_type": "stream",
     "text": [
      "Hello World!\n",
      "\n"
     ]
    }
   ],
   "source": [
    "with open(\"test.txt\", \"r\") as file:\n",
    "    # using readline\n",
    "    data = file.readline()\n",
    "    print(data)"
   ]
  },
  {
   "cell_type": "markdown",
   "metadata": {},
   "source": [
    "10. Copy odd lines of one file to another file in Python\n"
   ]
  },
  {
   "cell_type": "code",
   "execution_count": 21,
   "metadata": {},
   "outputs": [],
   "source": [
    "! touch oddeven.txt\n",
    "! echo \"1 2 3 \\n 4 5 6 \\n 7 8 9\" > oddeven.txt"
   ]
  },
  {
   "cell_type": "code",
   "execution_count": 22,
   "metadata": {},
   "outputs": [
    {
     "name": "stdout",
     "output_type": "stream",
     "text": [
      "1 2 3 \n",
      "\n",
      " 7 8 9\n",
      "\n"
     ]
    }
   ],
   "source": [
    "def print_odd_lines(file):\n",
    "    with open(file, \"r\") as file:\n",
    "        data = file.readlines()\n",
    "        for i in range(len(data)):\n",
    "            if i % 2 == 0:\n",
    "                print(data[i])\n",
    "\n",
    "# example\n",
    "file = \"oddeven.txt\"\n",
    "print_odd_lines(file)"
   ]
  },
  {
   "cell_type": "markdown",
   "metadata": {},
   "source": [
    "11. Python program for Linear Search\n"
   ]
  },
  {
   "cell_type": "code",
   "execution_count": 23,
   "metadata": {},
   "outputs": [
    {
     "name": "stdout",
     "output_type": "stream",
     "text": [
      "6\n"
     ]
    }
   ],
   "source": [
    "def linear_search(array, number):\n",
    "    for i in range(len(array)):\n",
    "        if array[i] == number:\n",
    "            return i\n",
    "    return -1\n",
    "\n",
    "# example\n",
    "array = [1, 2, 3, 4, 5, 6, 7, 8, 9]\n",
    "number = 7\n",
    "print(linear_search(array, number))"
   ]
  },
  {
   "cell_type": "markdown",
   "metadata": {},
   "source": [
    "12. Python program to print list elements in different ways\n"
   ]
  },
  {
   "cell_type": "code",
   "execution_count": 24,
   "metadata": {},
   "outputs": [
    {
     "name": "stdout",
     "output_type": "stream",
     "text": [
      "[1, 2, 3, 4, 5, 6, 7, 8, 9]\n",
      "1\n",
      "2\n",
      "3\n",
      "4\n",
      "5\n",
      "6\n",
      "7\n",
      "8\n",
      "9\n",
      "1\n",
      "2\n",
      "3\n",
      "4\n",
      "5\n",
      "6\n",
      "7\n",
      "8\n",
      "9\n",
      "[1, 2, 3, 4, 5, 6, 7, 8, 9]\n"
     ]
    }
   ],
   "source": [
    "print(\"directly\")\n",
    "lst = [1, 2, 3, 4, 5, 6, 7, 8, 9]\n",
    "# print list elements directly\n",
    "print(lst)\n",
    "print(\"for loop\")\n",
    "# print list elements using for loop\n",
    "for i in range(len(lst)):\n",
    "    print(lst[i])\n",
    "    \n",
    "# print list elements using while loop\n",
    "\n",
    "print(\"while loop\")\n",
    "i = 0\n",
    "while i < len(lst):\n",
    "    print(lst[i])\n",
    "    i += 1\n",
    "\n",
    "print(\"list comprehension\")\n",
    "# print list elements using list comprehension\n",
    "print([lst[i] for i in range(len(lst))])\n"
   ]
  },
  {
   "cell_type": "markdown",
   "metadata": {},
   "source": [
    "13. Python Program for Adding, removing elements in the list"
   ]
  },
  {
   "cell_type": "code",
   "execution_count": 25,
   "metadata": {},
   "outputs": [
    {
     "name": "stdout",
     "output_type": "stream",
     "text": [
      "before adding element\n",
      "[1, 2, 3, 4, 5, 6, 7, 8, 9]\n",
      "after adding element\n",
      "[1, 2, 3, 4, 5, 6, 7, 8, 9, 10]\n",
      "after removing element\n",
      "[1, 2, 3, 4, 5, 6, 7, 8, 9]\n"
     ]
    }
   ],
   "source": [
    "# program to add and remove elements\n",
    "lst = [1, 2, 3, 4, 5, 6, 7, 8, 9]\n",
    "print(\"before adding element\")\n",
    "print(lst)\n",
    "# adding element to list\n",
    "lst.append(10)\n",
    "print(\"after adding element\")\n",
    "print(lst)\n",
    "\n",
    "# removing element from list\n",
    "lst.remove(10)\n",
    "print(\"after removing element\")\n",
    "print(lst)"
   ]
  }
 ],
 "metadata": {
  "kernelspec": {
   "display_name": "Python 3 (ipykernel)",
   "language": "python",
   "name": "python3"
  },
  "language_info": {
   "codemirror_mode": {
    "name": "ipython",
    "version": 3
   },
   "file_extension": ".py",
   "mimetype": "text/x-python",
   "name": "python",
   "nbconvert_exporter": "python",
   "pygments_lexer": "ipython3",
   "version": "3.12.3"
  }
 },
 "nbformat": 4,
 "nbformat_minor": 4
}
