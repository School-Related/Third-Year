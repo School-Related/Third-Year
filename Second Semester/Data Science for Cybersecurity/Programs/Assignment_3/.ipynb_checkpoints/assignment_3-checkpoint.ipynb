{
 "cells": [
  {
   "cell_type": "code",
   "execution_count": 26,
   "metadata": {},
   "outputs": [],
   "source": [
    "# import libraries\n",
    "import numpy as np\n",
    "import pandas as pd\n",
    "import matplotlib.pyplot as plt\n",
    "import seaborn as sns\n",
    "\n",
    "sns.set_theme(style=\"darkgrid\")"
   ]
  },
  {
   "cell_type": "code",
   "execution_count": 7,
   "metadata": {},
   "outputs": [
    {
     "data": {
      "text/html": [
       "<div>\n",
       "<style scoped>\n",
       "    .dataframe tbody tr th:only-of-type {\n",
       "        vertical-align: middle;\n",
       "    }\n",
       "\n",
       "    .dataframe tbody tr th {\n",
       "        vertical-align: top;\n",
       "    }\n",
       "\n",
       "    .dataframe thead th {\n",
       "        text-align: right;\n",
       "    }\n",
       "</style>\n",
       "<table border=\"1\" class=\"dataframe\">\n",
       "  <thead>\n",
       "    <tr style=\"text-align: right;\">\n",
       "      <th></th>\n",
       "      <th>Unnamed: 0</th>\n",
       "      <th>Zone</th>\n",
       "      <th>State</th>\n",
       "      <th>City</th>\n",
       "      <th>Name</th>\n",
       "      <th>Type</th>\n",
       "      <th>Establishment Year</th>\n",
       "      <th>time needed to visit in hrs</th>\n",
       "      <th>Google review rating</th>\n",
       "      <th>Entrance Fee in INR</th>\n",
       "      <th>Airport with 50km Radius</th>\n",
       "      <th>Weekly Off</th>\n",
       "      <th>Significance</th>\n",
       "      <th>DSLR Allowed</th>\n",
       "      <th>Number of google review in lakhs</th>\n",
       "      <th>Best Time to visit</th>\n",
       "    </tr>\n",
       "  </thead>\n",
       "  <tbody>\n",
       "    <tr>\n",
       "      <th>0</th>\n",
       "      <td>0</td>\n",
       "      <td>Northern</td>\n",
       "      <td>Delhi</td>\n",
       "      <td>Delhi</td>\n",
       "      <td>India Gate</td>\n",
       "      <td>War Memorial</td>\n",
       "      <td>1921</td>\n",
       "      <td>0.5</td>\n",
       "      <td>4.6</td>\n",
       "      <td>0</td>\n",
       "      <td>Yes</td>\n",
       "      <td>NaN</td>\n",
       "      <td>Historical</td>\n",
       "      <td>Yes</td>\n",
       "      <td>2.60</td>\n",
       "      <td>Evening</td>\n",
       "    </tr>\n",
       "    <tr>\n",
       "      <th>1</th>\n",
       "      <td>1</td>\n",
       "      <td>Northern</td>\n",
       "      <td>Delhi</td>\n",
       "      <td>Delhi</td>\n",
       "      <td>Humayun's Tomb</td>\n",
       "      <td>Tomb</td>\n",
       "      <td>1572</td>\n",
       "      <td>2.0</td>\n",
       "      <td>4.5</td>\n",
       "      <td>30</td>\n",
       "      <td>Yes</td>\n",
       "      <td>NaN</td>\n",
       "      <td>Historical</td>\n",
       "      <td>Yes</td>\n",
       "      <td>0.40</td>\n",
       "      <td>Afternoon</td>\n",
       "    </tr>\n",
       "    <tr>\n",
       "      <th>2</th>\n",
       "      <td>2</td>\n",
       "      <td>Northern</td>\n",
       "      <td>Delhi</td>\n",
       "      <td>Delhi</td>\n",
       "      <td>Akshardham Temple</td>\n",
       "      <td>Temple</td>\n",
       "      <td>2005</td>\n",
       "      <td>5.0</td>\n",
       "      <td>4.6</td>\n",
       "      <td>60</td>\n",
       "      <td>Yes</td>\n",
       "      <td>NaN</td>\n",
       "      <td>Religious</td>\n",
       "      <td>No</td>\n",
       "      <td>0.40</td>\n",
       "      <td>Afternoon</td>\n",
       "    </tr>\n",
       "    <tr>\n",
       "      <th>3</th>\n",
       "      <td>3</td>\n",
       "      <td>Northern</td>\n",
       "      <td>Delhi</td>\n",
       "      <td>Delhi</td>\n",
       "      <td>Waste to Wonder Park</td>\n",
       "      <td>Theme Park</td>\n",
       "      <td>2019</td>\n",
       "      <td>2.0</td>\n",
       "      <td>4.1</td>\n",
       "      <td>50</td>\n",
       "      <td>Yes</td>\n",
       "      <td>Monday</td>\n",
       "      <td>Environmental</td>\n",
       "      <td>Yes</td>\n",
       "      <td>0.27</td>\n",
       "      <td>Evening</td>\n",
       "    </tr>\n",
       "    <tr>\n",
       "      <th>4</th>\n",
       "      <td>4</td>\n",
       "      <td>Northern</td>\n",
       "      <td>Delhi</td>\n",
       "      <td>Delhi</td>\n",
       "      <td>Jantar Mantar</td>\n",
       "      <td>Observatory</td>\n",
       "      <td>1724</td>\n",
       "      <td>2.0</td>\n",
       "      <td>4.2</td>\n",
       "      <td>15</td>\n",
       "      <td>Yes</td>\n",
       "      <td>NaN</td>\n",
       "      <td>Scientific</td>\n",
       "      <td>Yes</td>\n",
       "      <td>0.31</td>\n",
       "      <td>Morning</td>\n",
       "    </tr>\n",
       "  </tbody>\n",
       "</table>\n",
       "</div>"
      ],
      "text/plain": [
       "   Unnamed: 0      Zone  State   City                  Name          Type  \\\n",
       "0           0  Northern  Delhi  Delhi            India Gate  War Memorial   \n",
       "1           1  Northern  Delhi  Delhi        Humayun's Tomb          Tomb   \n",
       "2           2  Northern  Delhi  Delhi     Akshardham Temple        Temple   \n",
       "3           3  Northern  Delhi  Delhi  Waste to Wonder Park    Theme Park   \n",
       "4           4  Northern  Delhi  Delhi         Jantar Mantar   Observatory   \n",
       "\n",
       "  Establishment Year  time needed to visit in hrs  Google review rating  \\\n",
       "0               1921                          0.5                   4.6   \n",
       "1               1572                          2.0                   4.5   \n",
       "2               2005                          5.0                   4.6   \n",
       "3               2019                          2.0                   4.1   \n",
       "4               1724                          2.0                   4.2   \n",
       "\n",
       "   Entrance Fee in INR Airport with 50km Radius Weekly Off   Significance  \\\n",
       "0                    0                      Yes        NaN     Historical   \n",
       "1                   30                      Yes        NaN     Historical   \n",
       "2                   60                      Yes        NaN      Religious   \n",
       "3                   50                      Yes     Monday  Environmental   \n",
       "4                   15                      Yes        NaN     Scientific   \n",
       "\n",
       "  DSLR Allowed  Number of google review in lakhs Best Time to visit  \n",
       "0          Yes                              2.60            Evening  \n",
       "1          Yes                              0.40          Afternoon  \n",
       "2           No                              0.40          Afternoon  \n",
       "3          Yes                              0.27            Evening  \n",
       "4          Yes                              0.31            Morning  "
      ]
     },
     "execution_count": 7,
     "metadata": {},
     "output_type": "execute_result"
    }
   ],
   "source": [
    "# load dataset\n",
    "df = pd.read_csv(\"data.csv\")\n",
    "df.head()"
   ]
  },
  {
   "cell_type": "markdown",
   "metadata": {},
   "source": [
    "## Pre Processing "
   ]
  },
  {
   "cell_type": "code",
   "execution_count": 8,
   "metadata": {},
   "outputs": [
    {
     "data": {
      "text/plain": [
       "Index(['Zone', 'State', 'City', 'Name', 'Type', 'Establishment Year',\n",
       "       'time needed to visit in hrs', 'Google review rating',\n",
       "       'Entrance Fee in INR', 'Airport with 50km Radius', 'Weekly Off',\n",
       "       'Significance', 'DSLR Allowed', 'Number of google review in lakhs',\n",
       "       'Best Time to visit'],\n",
       "      dtype='object')"
      ]
     },
     "execution_count": 8,
     "metadata": {},
     "output_type": "execute_result"
    }
   ],
   "source": [
    "# lets remove the unnamed column\n",
    "df = df.drop(\"Unnamed: 0\", axis=1)\n",
    "df.columns"
   ]
  },
  {
   "cell_type": "code",
   "execution_count": 19,
   "metadata": {},
   "outputs": [
    {
     "name": "stdout",
     "output_type": "stream",
     "text": [
      "Zone                                  0\n",
      "State                                 0\n",
      "City                                  0\n",
      "Name                                  0\n",
      "Type                                  0\n",
      "Establishment Year                    0\n",
      "time needed to visit in hrs           0\n",
      "Google review rating                  0\n",
      "Entrance Fee in INR                   0\n",
      "Airport with 50km Radius              0\n",
      "Weekly Off                          293\n",
      "Significance                          0\n",
      "DSLR Allowed                          0\n",
      "Number of google review in lakhs      0\n",
      "Best Time to visit                    0\n",
      "dtype: int64\n"
     ]
    }
   ],
   "source": [
    "# lets remove null values\n",
    "print(df.isnull().sum())"
   ]
  },
  {
   "cell_type": "code",
   "execution_count": 30,
   "metadata": {},
   "outputs": [
    {
     "data": {
      "text/plain": [
       "(324, 14)"
      ]
     },
     "execution_count": 30,
     "metadata": {},
     "output_type": "execute_result"
    }
   ],
   "source": [
    "# lets find outliers for ratings column, using z score\n",
    "from scipy import stats\n",
    "\n",
    "z = np.abs(stats.zscore(df[\"Google review rating\"]))\n",
    "\n",
    "# lets remove outliers\n",
    "df = df[(z < 3)]\n",
    "df.shape"
   ]
  },
  {
   "cell_type": "code",
   "execution_count": 20,
   "metadata": {},
   "outputs": [
    {
     "data": {
      "text/html": [
       "<div>\n",
       "<style scoped>\n",
       "    .dataframe tbody tr th:only-of-type {\n",
       "        vertical-align: middle;\n",
       "    }\n",
       "\n",
       "    .dataframe tbody tr th {\n",
       "        vertical-align: top;\n",
       "    }\n",
       "\n",
       "    .dataframe thead th {\n",
       "        text-align: right;\n",
       "    }\n",
       "</style>\n",
       "<table border=\"1\" class=\"dataframe\">\n",
       "  <thead>\n",
       "    <tr style=\"text-align: right;\">\n",
       "      <th></th>\n",
       "      <th>Zone</th>\n",
       "      <th>State</th>\n",
       "      <th>City</th>\n",
       "      <th>Name</th>\n",
       "      <th>Type</th>\n",
       "      <th>Establishment Year</th>\n",
       "      <th>time needed to visit in hrs</th>\n",
       "      <th>Google review rating</th>\n",
       "      <th>Entrance Fee in INR</th>\n",
       "      <th>Airport with 50km Radius</th>\n",
       "      <th>Significance</th>\n",
       "      <th>DSLR Allowed</th>\n",
       "      <th>Number of google review in lakhs</th>\n",
       "      <th>Best Time to visit</th>\n",
       "    </tr>\n",
       "  </thead>\n",
       "  <tbody>\n",
       "    <tr>\n",
       "      <th>0</th>\n",
       "      <td>Northern</td>\n",
       "      <td>Delhi</td>\n",
       "      <td>Delhi</td>\n",
       "      <td>India Gate</td>\n",
       "      <td>War Memorial</td>\n",
       "      <td>1921</td>\n",
       "      <td>0.5</td>\n",
       "      <td>4.6</td>\n",
       "      <td>0</td>\n",
       "      <td>Yes</td>\n",
       "      <td>Historical</td>\n",
       "      <td>Yes</td>\n",
       "      <td>2.60</td>\n",
       "      <td>Evening</td>\n",
       "    </tr>\n",
       "    <tr>\n",
       "      <th>1</th>\n",
       "      <td>Northern</td>\n",
       "      <td>Delhi</td>\n",
       "      <td>Delhi</td>\n",
       "      <td>Humayun's Tomb</td>\n",
       "      <td>Tomb</td>\n",
       "      <td>1572</td>\n",
       "      <td>2.0</td>\n",
       "      <td>4.5</td>\n",
       "      <td>30</td>\n",
       "      <td>Yes</td>\n",
       "      <td>Historical</td>\n",
       "      <td>Yes</td>\n",
       "      <td>0.40</td>\n",
       "      <td>Afternoon</td>\n",
       "    </tr>\n",
       "    <tr>\n",
       "      <th>2</th>\n",
       "      <td>Northern</td>\n",
       "      <td>Delhi</td>\n",
       "      <td>Delhi</td>\n",
       "      <td>Akshardham Temple</td>\n",
       "      <td>Temple</td>\n",
       "      <td>2005</td>\n",
       "      <td>5.0</td>\n",
       "      <td>4.6</td>\n",
       "      <td>60</td>\n",
       "      <td>Yes</td>\n",
       "      <td>Religious</td>\n",
       "      <td>No</td>\n",
       "      <td>0.40</td>\n",
       "      <td>Afternoon</td>\n",
       "    </tr>\n",
       "    <tr>\n",
       "      <th>3</th>\n",
       "      <td>Northern</td>\n",
       "      <td>Delhi</td>\n",
       "      <td>Delhi</td>\n",
       "      <td>Waste to Wonder Park</td>\n",
       "      <td>Theme Park</td>\n",
       "      <td>2019</td>\n",
       "      <td>2.0</td>\n",
       "      <td>4.1</td>\n",
       "      <td>50</td>\n",
       "      <td>Yes</td>\n",
       "      <td>Environmental</td>\n",
       "      <td>Yes</td>\n",
       "      <td>0.27</td>\n",
       "      <td>Evening</td>\n",
       "    </tr>\n",
       "    <tr>\n",
       "      <th>4</th>\n",
       "      <td>Northern</td>\n",
       "      <td>Delhi</td>\n",
       "      <td>Delhi</td>\n",
       "      <td>Jantar Mantar</td>\n",
       "      <td>Observatory</td>\n",
       "      <td>1724</td>\n",
       "      <td>2.0</td>\n",
       "      <td>4.2</td>\n",
       "      <td>15</td>\n",
       "      <td>Yes</td>\n",
       "      <td>Scientific</td>\n",
       "      <td>Yes</td>\n",
       "      <td>0.31</td>\n",
       "      <td>Morning</td>\n",
       "    </tr>\n",
       "  </tbody>\n",
       "</table>\n",
       "</div>"
      ],
      "text/plain": [
       "       Zone  State   City                  Name          Type  \\\n",
       "0  Northern  Delhi  Delhi            India Gate  War Memorial   \n",
       "1  Northern  Delhi  Delhi        Humayun's Tomb          Tomb   \n",
       "2  Northern  Delhi  Delhi     Akshardham Temple        Temple   \n",
       "3  Northern  Delhi  Delhi  Waste to Wonder Park    Theme Park   \n",
       "4  Northern  Delhi  Delhi         Jantar Mantar   Observatory   \n",
       "\n",
       "  Establishment Year  time needed to visit in hrs  Google review rating  \\\n",
       "0               1921                          0.5                   4.6   \n",
       "1               1572                          2.0                   4.5   \n",
       "2               2005                          5.0                   4.6   \n",
       "3               2019                          2.0                   4.1   \n",
       "4               1724                          2.0                   4.2   \n",
       "\n",
       "   Entrance Fee in INR Airport with 50km Radius   Significance DSLR Allowed  \\\n",
       "0                    0                      Yes     Historical          Yes   \n",
       "1                   30                      Yes     Historical          Yes   \n",
       "2                   60                      Yes      Religious           No   \n",
       "3                   50                      Yes  Environmental          Yes   \n",
       "4                   15                      Yes     Scientific          Yes   \n",
       "\n",
       "   Number of google review in lakhs Best Time to visit  \n",
       "0                              2.60            Evening  \n",
       "1                              0.40          Afternoon  \n",
       "2                              0.40          Afternoon  \n",
       "3                              0.27            Evening  \n",
       "4                              0.31            Morning  "
      ]
     },
     "execution_count": 20,
     "metadata": {},
     "output_type": "execute_result"
    }
   ],
   "source": [
    "# given weekly off is mostly empty, lets remove it\n",
    "df = df.drop(\"Weekly Off\", axis=1)\n",
    "df.head()"
   ]
  },
  {
   "cell_type": "markdown",
   "metadata": {},
   "source": [
    "## EDA"
   ]
  },
  {
   "cell_type": "code",
   "execution_count": 31,
   "metadata": {},
   "outputs": [
    {
     "data": {
      "text/plain": [
       "Zone                                 object\n",
       "State                                object\n",
       "City                                 object\n",
       "Name                                 object\n",
       "Type                                 object\n",
       "Establishment Year                   object\n",
       "time needed to visit in hrs         float64\n",
       "Google review rating                float64\n",
       "Entrance Fee in INR                   int64\n",
       "Airport with 50km Radius             object\n",
       "Significance                         object\n",
       "DSLR Allowed                         object\n",
       "Number of google review in lakhs    float64\n",
       "Best Time to visit                   object\n",
       "dtype: object"
      ]
     },
     "execution_count": 31,
     "metadata": {},
     "output_type": "execute_result"
    }
   ],
   "source": [
    "# lets see the data types of the columns\n",
    "df.dtypes"
   ]
  },
  {
   "cell_type": "code",
   "execution_count": 32,
   "metadata": {},
   "outputs": [
    {
     "name": "stdout",
     "output_type": "stream",
     "text": [
      "<class 'pandas.core.frame.DataFrame'>\n",
      "Index: 324 entries, 0 to 324\n",
      "Data columns (total 14 columns):\n",
      " #   Column                            Non-Null Count  Dtype  \n",
      "---  ------                            --------------  -----  \n",
      " 0   Zone                              324 non-null    object \n",
      " 1   State                             324 non-null    object \n",
      " 2   City                              324 non-null    object \n",
      " 3   Name                              324 non-null    object \n",
      " 4   Type                              324 non-null    object \n",
      " 5   Establishment Year                324 non-null    object \n",
      " 6   time needed to visit in hrs       324 non-null    float64\n",
      " 7   Google review rating              324 non-null    float64\n",
      " 8   Entrance Fee in INR               324 non-null    int64  \n",
      " 9   Airport with 50km Radius          324 non-null    object \n",
      " 10  Significance                      324 non-null    object \n",
      " 11  DSLR Allowed                      324 non-null    object \n",
      " 12  Number of google review in lakhs  324 non-null    float64\n",
      " 13  Best Time to visit                324 non-null    object \n",
      "dtypes: float64(3), int64(1), object(10)\n",
      "memory usage: 38.0+ KB\n"
     ]
    }
   ],
   "source": [
    "df.info()"
   ]
  },
  {
   "cell_type": "code",
   "execution_count": 33,
   "metadata": {},
   "outputs": [
    {
     "data": {
      "text/html": [
       "<div>\n",
       "<style scoped>\n",
       "    .dataframe tbody tr th:only-of-type {\n",
       "        vertical-align: middle;\n",
       "    }\n",
       "\n",
       "    .dataframe tbody tr th {\n",
       "        vertical-align: top;\n",
       "    }\n",
       "\n",
       "    .dataframe thead th {\n",
       "        text-align: right;\n",
       "    }\n",
       "</style>\n",
       "<table border=\"1\" class=\"dataframe\">\n",
       "  <thead>\n",
       "    <tr style=\"text-align: right;\">\n",
       "      <th></th>\n",
       "      <th>time needed to visit in hrs</th>\n",
       "      <th>Google review rating</th>\n",
       "      <th>Entrance Fee in INR</th>\n",
       "      <th>Number of google review in lakhs</th>\n",
       "    </tr>\n",
       "  </thead>\n",
       "  <tbody>\n",
       "    <tr>\n",
       "      <th>count</th>\n",
       "      <td>324.000000</td>\n",
       "      <td>324.000000</td>\n",
       "      <td>324.000000</td>\n",
       "      <td>324.000000</td>\n",
       "    </tr>\n",
       "    <tr>\n",
       "      <th>mean</th>\n",
       "      <td>1.797840</td>\n",
       "      <td>4.495679</td>\n",
       "      <td>112.620370</td>\n",
       "      <td>0.406767</td>\n",
       "    </tr>\n",
       "    <tr>\n",
       "      <th>std</th>\n",
       "      <td>0.956497</td>\n",
       "      <td>0.214591</td>\n",
       "      <td>528.554154</td>\n",
       "      <td>0.646965</td>\n",
       "    </tr>\n",
       "    <tr>\n",
       "      <th>min</th>\n",
       "      <td>0.500000</td>\n",
       "      <td>3.700000</td>\n",
       "      <td>0.000000</td>\n",
       "      <td>0.010000</td>\n",
       "    </tr>\n",
       "    <tr>\n",
       "      <th>25%</th>\n",
       "      <td>1.000000</td>\n",
       "      <td>4.400000</td>\n",
       "      <td>0.000000</td>\n",
       "      <td>0.059000</td>\n",
       "    </tr>\n",
       "    <tr>\n",
       "      <th>50%</th>\n",
       "      <td>1.500000</td>\n",
       "      <td>4.500000</td>\n",
       "      <td>0.000000</td>\n",
       "      <td>0.165000</td>\n",
       "    </tr>\n",
       "    <tr>\n",
       "      <th>75%</th>\n",
       "      <td>2.000000</td>\n",
       "      <td>4.600000</td>\n",
       "      <td>36.250000</td>\n",
       "      <td>0.492500</td>\n",
       "    </tr>\n",
       "    <tr>\n",
       "      <th>max</th>\n",
       "      <td>7.000000</td>\n",
       "      <td>4.900000</td>\n",
       "      <td>7500.000000</td>\n",
       "      <td>7.400000</td>\n",
       "    </tr>\n",
       "  </tbody>\n",
       "</table>\n",
       "</div>"
      ],
      "text/plain": [
       "       time needed to visit in hrs  Google review rating  Entrance Fee in INR  \\\n",
       "count                   324.000000            324.000000           324.000000   \n",
       "mean                      1.797840              4.495679           112.620370   \n",
       "std                       0.956497              0.214591           528.554154   \n",
       "min                       0.500000              3.700000             0.000000   \n",
       "25%                       1.000000              4.400000             0.000000   \n",
       "50%                       1.500000              4.500000             0.000000   \n",
       "75%                       2.000000              4.600000            36.250000   \n",
       "max                       7.000000              4.900000          7500.000000   \n",
       "\n",
       "       Number of google review in lakhs  \n",
       "count                        324.000000  \n",
       "mean                           0.406767  \n",
       "std                            0.646965  \n",
       "min                            0.010000  \n",
       "25%                            0.059000  \n",
       "50%                            0.165000  \n",
       "75%                            0.492500  \n",
       "max                            7.400000  "
      ]
     },
     "execution_count": 33,
     "metadata": {},
     "output_type": "execute_result"
    }
   ],
   "source": [
    "df.describe()"
   ]
  },
  {
   "cell_type": "code",
   "execution_count": 34,
   "metadata": {},
   "outputs": [
    {
     "data": {
      "text/html": [
       "<div>\n",
       "<style scoped>\n",
       "    .dataframe tbody tr th:only-of-type {\n",
       "        vertical-align: middle;\n",
       "    }\n",
       "\n",
       "    .dataframe tbody tr th {\n",
       "        vertical-align: top;\n",
       "    }\n",
       "\n",
       "    .dataframe thead th {\n",
       "        text-align: right;\n",
       "    }\n",
       "</style>\n",
       "<table border=\"1\" class=\"dataframe\">\n",
       "  <thead>\n",
       "    <tr style=\"text-align: right;\">\n",
       "      <th></th>\n",
       "      <th>Zone</th>\n",
       "      <th>State</th>\n",
       "      <th>City</th>\n",
       "      <th>Name</th>\n",
       "      <th>Type</th>\n",
       "      <th>Establishment Year</th>\n",
       "      <th>time needed to visit in hrs</th>\n",
       "      <th>Google review rating</th>\n",
       "      <th>Entrance Fee in INR</th>\n",
       "      <th>Airport with 50km Radius</th>\n",
       "      <th>Significance</th>\n",
       "      <th>DSLR Allowed</th>\n",
       "      <th>Number of google review in lakhs</th>\n",
       "      <th>Best Time to visit</th>\n",
       "    </tr>\n",
       "  </thead>\n",
       "  <tbody>\n",
       "    <tr>\n",
       "      <th>92</th>\n",
       "      <td>Northern</td>\n",
       "      <td>Punjab</td>\n",
       "      <td>Amritsar</td>\n",
       "      <td>Golden Temple (Harmandir Sahib)</td>\n",
       "      <td>Religious Site</td>\n",
       "      <td>1604</td>\n",
       "      <td>1.5</td>\n",
       "      <td>4.9</td>\n",
       "      <td>0</td>\n",
       "      <td>Yes</td>\n",
       "      <td>Spiritual</td>\n",
       "      <td>Yes</td>\n",
       "      <td>1.90</td>\n",
       "      <td>All</td>\n",
       "    </tr>\n",
       "    <tr>\n",
       "      <th>196</th>\n",
       "      <td>Northern</td>\n",
       "      <td>Ladakh</td>\n",
       "      <td>Leh</td>\n",
       "      <td>Pangong Tso</td>\n",
       "      <td>Lake</td>\n",
       "      <td>Unknown</td>\n",
       "      <td>2.0</td>\n",
       "      <td>4.9</td>\n",
       "      <td>20</td>\n",
       "      <td>Yes</td>\n",
       "      <td>Nature</td>\n",
       "      <td>Yes</td>\n",
       "      <td>0.15</td>\n",
       "      <td>Morning</td>\n",
       "    </tr>\n",
       "    <tr>\n",
       "      <th>72</th>\n",
       "      <td>Western</td>\n",
       "      <td>Gujarat</td>\n",
       "      <td>Rann of Kutch</td>\n",
       "      <td>Rann Utsav</td>\n",
       "      <td>Cultural</td>\n",
       "      <td>Unknown</td>\n",
       "      <td>3.0</td>\n",
       "      <td>4.9</td>\n",
       "      <td>7500</td>\n",
       "      <td>Yes</td>\n",
       "      <td>Cultural</td>\n",
       "      <td>Yes</td>\n",
       "      <td>0.10</td>\n",
       "      <td>Evening</td>\n",
       "    </tr>\n",
       "    <tr>\n",
       "      <th>71</th>\n",
       "      <td>Western</td>\n",
       "      <td>Gujarat</td>\n",
       "      <td>Somnath</td>\n",
       "      <td>Somnath Temple</td>\n",
       "      <td>Temple</td>\n",
       "      <td>1951</td>\n",
       "      <td>2.0</td>\n",
       "      <td>4.8</td>\n",
       "      <td>0</td>\n",
       "      <td>No</td>\n",
       "      <td>Religious</td>\n",
       "      <td>No</td>\n",
       "      <td>0.39</td>\n",
       "      <td>Morning</td>\n",
       "    </tr>\n",
       "    <tr>\n",
       "      <th>145</th>\n",
       "      <td>Central</td>\n",
       "      <td>Madhya Pradesh</td>\n",
       "      <td>Orchha</td>\n",
       "      <td>Orchha Fort</td>\n",
       "      <td>Fort</td>\n",
       "      <td>1500</td>\n",
       "      <td>1.5</td>\n",
       "      <td>4.8</td>\n",
       "      <td>10</td>\n",
       "      <td>No</td>\n",
       "      <td>Historical</td>\n",
       "      <td>Yes</td>\n",
       "      <td>0.10</td>\n",
       "      <td>Afternoon</td>\n",
       "    </tr>\n",
       "  </tbody>\n",
       "</table>\n",
       "</div>"
      ],
      "text/plain": [
       "         Zone           State           City                             Name  \\\n",
       "92   Northern          Punjab       Amritsar  Golden Temple (Harmandir Sahib)   \n",
       "196  Northern          Ladakh            Leh                      Pangong Tso   \n",
       "72    Western         Gujarat  Rann of Kutch                       Rann Utsav   \n",
       "71    Western         Gujarat        Somnath                   Somnath Temple   \n",
       "145   Central  Madhya Pradesh         Orchha                      Orchha Fort   \n",
       "\n",
       "               Type Establishment Year  time needed to visit in hrs  \\\n",
       "92   Religious Site               1604                          1.5   \n",
       "196            Lake            Unknown                          2.0   \n",
       "72         Cultural            Unknown                          3.0   \n",
       "71           Temple               1951                          2.0   \n",
       "145            Fort               1500                          1.5   \n",
       "\n",
       "     Google review rating  Entrance Fee in INR Airport with 50km Radius  \\\n",
       "92                    4.9                    0                      Yes   \n",
       "196                   4.9                   20                      Yes   \n",
       "72                    4.9                 7500                      Yes   \n",
       "71                    4.8                    0                       No   \n",
       "145                   4.8                   10                       No   \n",
       "\n",
       "    Significance DSLR Allowed  Number of google review in lakhs  \\\n",
       "92     Spiritual          Yes                              1.90   \n",
       "196       Nature          Yes                              0.15   \n",
       "72      Cultural          Yes                              0.10   \n",
       "71     Religious           No                              0.39   \n",
       "145   Historical          Yes                              0.10   \n",
       "\n",
       "    Best Time to visit  \n",
       "92                 All  \n",
       "196            Morning  \n",
       "72             Evening  \n",
       "71             Morning  \n",
       "145          Afternoon  "
      ]
     },
     "execution_count": 34,
     "metadata": {},
     "output_type": "execute_result"
    }
   ],
   "source": [
    "# lets see the highest rated places to visit, sorting by Google Review Rating\n",
    "df.sort_values(\"Google review rating\", ascending=False).head()"
   ]
  },
  {
   "cell_type": "code",
   "execution_count": 39,
   "metadata": {},
   "outputs": [
    {
     "data": {
      "text/plain": [
       "<Axes: ylabel='count'>"
      ]
     },
     "execution_count": 39,
     "metadata": {},
     "output_type": "execute_result"
    },
    {
     "data": {
      "image/png": "[encoded data removed]",
      "text/plain": [
       "<Figure size 640x480 with 1 Axes>"
      ]
     },
     "metadata": {},
     "output_type": "display_data"
    }
   ],
   "source": [
    "# lets see which zone of India is most rated, being categorical, lets make a pie chart to see which has the most number of ratings\n",
    "df[\"Zone\"].value_counts().plot.pie(autopct=\"%1.1f%%\")"
   ]
  },
  {
   "cell_type": "code",
   "execution_count": 46,
   "metadata": {},
   "outputs": [
    {
     "data": {
      "text/plain": [
       "Text(0, 0.5, 'Google Review Rating')"
      ]
     },
     "execution_count": 46,
     "metadata": {},
     "output_type": "execute_result"
    },
    {
     "data": {
      "image/png": "[encoded data removed]",
      "text/plain": [
       "<Figure size 1000x600 with 1 Axes>"
      ]
     },
     "metadata": {},
     "output_type": "display_data"
    }
   ],
   "source": [
    "# lets plot zone vs rating\n",
    "plt.figure(figsize=(10, 6))\n",
    "sns.boxplot(x=\"Zone\", y=\"Google review rating\", data=df, ax=plt.gca())\n",
    "# title and labels\n",
    "plt.title(\"Zone vs Google Review Rating\")\n",
    "plt.xlabel(\"Zone\")\n",
    "plt.ylabel(\"Google Review Rating\")"
   ]
  },
  {
   "cell_type": "code",
   "execution_count": 47,
   "metadata": {},
   "outputs": [
    {
     "data": {
      "text/plain": [
       "Text(25.319444444444443, 0.5, 'Google Review Rating')"
      ]
     },
     "execution_count": 47,
     "metadata": {},
     "output_type": "execute_result"
    },
    {
     "data": {
      "image/png": "[encoded data removed]",
      "text/plain": [
       "<Figure size 500x500 with 1 Axes>"
      ]
     },
     "metadata": {},
     "output_type": "display_data"
    }
   ],
   "source": [
    "sns.catplot(data=df, x=\"Zone\", y=\"Google review rating\", kind=\"bar\", hue=\"Zone\")\n",
    "# title and labels\n",
    "plt.title(\"Zone vs Google Review Rating\")\n",
    "plt.xlabel(\"Zone\")\n",
    "plt.ylabel(\"Google Review Rating\")"
   ]
  },
  {
   "cell_type": "markdown",
   "metadata": {},
   "source": [
    "so we see that most of the zones are almost equally rated and there isnt much difference there.\n",
    "\n",
    "we can then perform a hypothesis test to see if the ratings are significantly different or not"
   ]
  },
  {
   "cell_type": "code",
   "execution_count": 50,
   "metadata": {},
   "outputs": [
    {
     "data": {
      "text/plain": [
       "F_onewayResult(statistic=1.598487683716663, pvalue=0.16009417988080096)"
      ]
     },
     "execution_count": 50,
     "metadata": {},
     "output_type": "execute_result"
    }
   ],
   "source": [
    "# null hypothesis: the ratings are not significantly different\n",
    "# alternate hypothesis: the ratings are significantly different\n",
    "\n",
    "from scipy.stats import f_oneway  # anova test\n",
    "\n",
    "# lets get the ratings for each zone\n",
    "north = df[df[\"Zone\"] == \"Northern\"][\"Google review rating\"]\n",
    "south = df[df[\"Zone\"] == \"Southern\"][\"Google review rating\"]\n",
    "east = df[df[\"Zone\"] == \"Eastern\"][\"Google review rating\"]\n",
    "west = df[df[\"Zone\"] == \"Western\"][\"Google review rating\"]\n",
    "central = df[df[\"Zone\"] == \"Central\"][\"Google review rating\"]\n",
    "north_east = df[df[\"Zone\"] == \"North Eastern\"][\"Google review rating\"]\n",
    "\n",
    "# lets perform the test\n",
    "f_oneway(north, south, east, west, central, north_east)"
   ]
  },
  {
   "cell_type": "markdown",
   "metadata": {},
   "source": [
    "since p value is more than 0.05, we fail to reject the null hypothesis, which means the ratings are not significantly different"
   ]
  },
  {
   "cell_type": "code",
   "execution_count": 52,
   "metadata": {},
   "outputs": [
    {
     "data": {
      "text/html": [
       "<div>\n",
       "<style scoped>\n",
       "    .dataframe tbody tr th:only-of-type {\n",
       "        vertical-align: middle;\n",
       "    }\n",
       "\n",
       "    .dataframe tbody tr th {\n",
       "        vertical-align: top;\n",
       "    }\n",
       "\n",
       "    .dataframe thead th {\n",
       "        text-align: right;\n",
       "    }\n",
       "</style>\n",
       "<table border=\"1\" class=\"dataframe\">\n",
       "  <thead>\n",
       "    <tr style=\"text-align: right;\">\n",
       "      <th></th>\n",
       "      <th>Zone</th>\n",
       "      <th>State</th>\n",
       "      <th>City</th>\n",
       "      <th>Name</th>\n",
       "      <th>Type</th>\n",
       "      <th>Establishment Year</th>\n",
       "      <th>time needed to visit in hrs</th>\n",
       "      <th>Google review rating</th>\n",
       "      <th>Entrance Fee in INR</th>\n",
       "      <th>Airport with 50km Radius</th>\n",
       "      <th>Significance</th>\n",
       "      <th>DSLR Allowed</th>\n",
       "      <th>Number of google review in lakhs</th>\n",
       "      <th>Best Time to visit</th>\n",
       "    </tr>\n",
       "  </thead>\n",
       "  <tbody>\n",
       "    <tr>\n",
       "      <th>0</th>\n",
       "      <td>Northern</td>\n",
       "      <td>Delhi</td>\n",
       "      <td>Delhi</td>\n",
       "      <td>India Gate</td>\n",
       "      <td>War Memorial</td>\n",
       "      <td>1921</td>\n",
       "      <td>0.5</td>\n",
       "      <td>4.6</td>\n",
       "      <td>0</td>\n",
       "      <td>Yes</td>\n",
       "      <td>Historical</td>\n",
       "      <td>Yes</td>\n",
       "      <td>2.60</td>\n",
       "      <td>Evening</td>\n",
       "    </tr>\n",
       "    <tr>\n",
       "      <th>1</th>\n",
       "      <td>Northern</td>\n",
       "      <td>Delhi</td>\n",
       "      <td>Delhi</td>\n",
       "      <td>Humayun's Tomb</td>\n",
       "      <td>Tomb</td>\n",
       "      <td>1572</td>\n",
       "      <td>2.0</td>\n",
       "      <td>4.5</td>\n",
       "      <td>30</td>\n",
       "      <td>Yes</td>\n",
       "      <td>Historical</td>\n",
       "      <td>Yes</td>\n",
       "      <td>0.40</td>\n",
       "      <td>Afternoon</td>\n",
       "    </tr>\n",
       "    <tr>\n",
       "      <th>2</th>\n",
       "      <td>Northern</td>\n",
       "      <td>Delhi</td>\n",
       "      <td>Delhi</td>\n",
       "      <td>Akshardham Temple</td>\n",
       "      <td>Temple</td>\n",
       "      <td>2005</td>\n",
       "      <td>5.0</td>\n",
       "      <td>4.6</td>\n",
       "      <td>60</td>\n",
       "      <td>Yes</td>\n",
       "      <td>Religious</td>\n",
       "      <td>No</td>\n",
       "      <td>0.40</td>\n",
       "      <td>Afternoon</td>\n",
       "    </tr>\n",
       "    <tr>\n",
       "      <th>3</th>\n",
       "      <td>Northern</td>\n",
       "      <td>Delhi</td>\n",
       "      <td>Delhi</td>\n",
       "      <td>Waste to Wonder Park</td>\n",
       "      <td>Theme Park</td>\n",
       "      <td>2019</td>\n",
       "      <td>2.0</td>\n",
       "      <td>4.1</td>\n",
       "      <td>50</td>\n",
       "      <td>Yes</td>\n",
       "      <td>Environmental</td>\n",
       "      <td>Yes</td>\n",
       "      <td>0.27</td>\n",
       "      <td>Evening</td>\n",
       "    </tr>\n",
       "    <tr>\n",
       "      <th>4</th>\n",
       "      <td>Northern</td>\n",
       "      <td>Delhi</td>\n",
       "      <td>Delhi</td>\n",
       "      <td>Jantar Mantar</td>\n",
       "      <td>Observatory</td>\n",
       "      <td>1724</td>\n",
       "      <td>2.0</td>\n",
       "      <td>4.2</td>\n",
       "      <td>15</td>\n",
       "      <td>Yes</td>\n",
       "      <td>Scientific</td>\n",
       "      <td>Yes</td>\n",
       "      <td>0.31</td>\n",
       "      <td>Morning</td>\n",
       "    </tr>\n",
       "  </tbody>\n",
       "</table>\n",
       "</div>"
      ],
      "text/plain": [
       "       Zone  State   City                  Name          Type  \\\n",
       "0  Northern  Delhi  Delhi            India Gate  War Memorial   \n",
       "1  Northern  Delhi  Delhi        Humayun's Tomb          Tomb   \n",
       "2  Northern  Delhi  Delhi     Akshardham Temple        Temple   \n",
       "3  Northern  Delhi  Delhi  Waste to Wonder Park    Theme Park   \n",
       "4  Northern  Delhi  Delhi         Jantar Mantar   Observatory   \n",
       "\n",
       "  Establishment Year  time needed to visit in hrs  Google review rating  \\\n",
       "0               1921                          0.5                   4.6   \n",
       "1               1572                          2.0                   4.5   \n",
       "2               2005                          5.0                   4.6   \n",
       "3               2019                          2.0                   4.1   \n",
       "4               1724                          2.0                   4.2   \n",
       "\n",
       "   Entrance Fee in INR Airport with 50km Radius   Significance DSLR Allowed  \\\n",
       "0                    0                      Yes     Historical          Yes   \n",
       "1                   30                      Yes     Historical          Yes   \n",
       "2                   60                      Yes      Religious           No   \n",
       "3                   50                      Yes  Environmental          Yes   \n",
       "4                   15                      Yes     Scientific          Yes   \n",
       "\n",
       "   Number of google review in lakhs Best Time to visit  \n",
       "0                              2.60            Evening  \n",
       "1                              0.40          Afternoon  \n",
       "2                              0.40          Afternoon  \n",
       "3                              0.27            Evening  \n",
       "4                              0.31            Morning  "
      ]
     },
     "execution_count": 52,
     "metadata": {},
     "output_type": "execute_result"
    }
   ],
   "source": [
    "df.head()"
   ]
  },
  {
   "cell_type": "code",
   "execution_count": 66,
   "metadata": {},
   "outputs": [
    {
     "data": {
      "text/plain": [
       "Text(0, 0.5, 'Time Needed in Hours to Visit ')"
      ]
     },
     "execution_count": 66,
     "metadata": {},
     "output_type": "execute_result"
    },
    {
     "data": {
      "image/png": "[encoded data removed]",
      "text/plain": [
       "<Figure size 1000x600 with 1 Axes>"
      ]
     },
     "metadata": {},
     "output_type": "display_data"
    }
   ],
   "source": [
    "# lets see what places take the most time to visit\n",
    "df.sort_values(\"time needed to visit in hrs\", ascending=False).head()\n",
    "\n",
    "# plottin a simple hist plot to see the relationship between time to visit and google review rating\n",
    "plt.figure(figsize=(10, 6))\n",
    "sns.histplot(y=\"time needed to visit in hrs\", x=\"Zone\", data=df, ax=plt.gca())\n",
    "# title and labels\n",
    "plt.title(\"Time to Visit vs Zone\")\n",
    "plt.xlabel(\"Zone\")\n",
    "plt.ylabel(\"Time Needed in Hours to Visit \")"
   ]
  },
  {
   "cell_type": "markdown",
   "metadata": {},
   "source": [
    "above graphs shows us that north and south often take around 2 hours, south takes the least time, while eastern, celtral and north eastern can be visited mostly in half to 3 hours."
   ]
  },
  {
   "cell_type": "code",
   "execution_count": 77,
   "metadata": {},
   "outputs": [
    {
     "data": {
      "text/plain": [
       "Text(0, 0.5, 'Count')"
      ]
     },
     "execution_count": 77,
     "metadata": {},
     "output_type": "execute_result"
    },
    {
     "data": {
      "image/png": "[encoded data removed]",
      "text/plain": [
       "<Figure size 1000x600 with 1 Axes>"
      ]
     },
     "metadata": {},
     "output_type": "display_data"
    }
   ],
   "source": [
    "# lets see this better by binning the time needed to visit between 0 and 1, 1 and 2, 2 and 3, 3 and 4, 4 and 5\n",
    "df[\"time needed to visit in hrs\"].value_counts(bins=5)\n",
    "# lets plot\n",
    "plt.figure(figsize=(10, 6))\n",
    "sns.histplot(\n",
    "    x=\"time needed to visit in hrs\",\n",
    "    data=df,\n",
    "    bins=5,\n",
    "    ax=plt.gca(),\n",
    "    hue=\"Zone\",\n",
    "    palette=sns.color_palette(\"husl\", 6),\n",
    ")\n",
    "# title and labels\n",
    "plt.title(\"Time to Visit in Hours\")\n",
    "plt.xlabel(\"Time Needed in Hours to Visit \")\n",
    "plt.ylabel(\"Count\")"
   ]
  },
  {
   "cell_type": "markdown",
   "metadata": {},
   "source": [
    "this shows us that most places can be visted in half to 2 hours, while only some may take more. Places in south take the least time"
   ]
  },
  {
   "cell_type": "code",
   "execution_count": 78,
   "metadata": {},
   "outputs": [
    {
     "data": {
      "text/html": [
       "<div>\n",
       "<style scoped>\n",
       "    .dataframe tbody tr th:only-of-type {\n",
       "        vertical-align: middle;\n",
       "    }\n",
       "\n",
       "    .dataframe tbody tr th {\n",
       "        vertical-align: top;\n",
       "    }\n",
       "\n",
       "    .dataframe thead th {\n",
       "        text-align: right;\n",
       "    }\n",
       "</style>\n",
       "<table border=\"1\" class=\"dataframe\">\n",
       "  <thead>\n",
       "    <tr style=\"text-align: right;\">\n",
       "      <th></th>\n",
       "      <th>Zone</th>\n",
       "      <th>State</th>\n",
       "      <th>City</th>\n",
       "      <th>Name</th>\n",
       "      <th>Type</th>\n",
       "      <th>Establishment Year</th>\n",
       "      <th>time needed to visit in hrs</th>\n",
       "      <th>Google review rating</th>\n",
       "      <th>Entrance Fee in INR</th>\n",
       "      <th>Airport with 50km Radius</th>\n",
       "      <th>Significance</th>\n",
       "      <th>DSLR Allowed</th>\n",
       "      <th>Number of google review in lakhs</th>\n",
       "      <th>Best Time to visit</th>\n",
       "    </tr>\n",
       "  </thead>\n",
       "  <tbody>\n",
       "    <tr>\n",
       "      <th>0</th>\n",
       "      <td>Northern</td>\n",
       "      <td>Delhi</td>\n",
       "      <td>Delhi</td>\n",
       "      <td>India Gate</td>\n",
       "      <td>War Memorial</td>\n",
       "      <td>1921</td>\n",
       "      <td>0.5</td>\n",
       "      <td>4.6</td>\n",
       "      <td>0</td>\n",
       "      <td>Yes</td>\n",
       "      <td>Historical</td>\n",
       "      <td>Yes</td>\n",
       "      <td>2.60</td>\n",
       "      <td>Evening</td>\n",
       "    </tr>\n",
       "    <tr>\n",
       "      <th>1</th>\n",
       "      <td>Northern</td>\n",
       "      <td>Delhi</td>\n",
       "      <td>Delhi</td>\n",
       "      <td>Humayun's Tomb</td>\n",
       "      <td>Tomb</td>\n",
       "      <td>1572</td>\n",
       "      <td>2.0</td>\n",
       "      <td>4.5</td>\n",
       "      <td>30</td>\n",
       "      <td>Yes</td>\n",
       "      <td>Historical</td>\n",
       "      <td>Yes</td>\n",
       "      <td>0.40</td>\n",
       "      <td>Afternoon</td>\n",
       "    </tr>\n",
       "    <tr>\n",
       "      <th>2</th>\n",
       "      <td>Northern</td>\n",
       "      <td>Delhi</td>\n",
       "      <td>Delhi</td>\n",
       "      <td>Akshardham Temple</td>\n",
       "      <td>Temple</td>\n",
       "      <td>2005</td>\n",
       "      <td>5.0</td>\n",
       "      <td>4.6</td>\n",
       "      <td>60</td>\n",
       "      <td>Yes</td>\n",
       "      <td>Religious</td>\n",
       "      <td>No</td>\n",
       "      <td>0.40</td>\n",
       "      <td>Afternoon</td>\n",
       "    </tr>\n",
       "    <tr>\n",
       "      <th>3</th>\n",
       "      <td>Northern</td>\n",
       "      <td>Delhi</td>\n",
       "      <td>Delhi</td>\n",
       "      <td>Waste to Wonder Park</td>\n",
       "      <td>Theme Park</td>\n",
       "      <td>2019</td>\n",
       "      <td>2.0</td>\n",
       "      <td>4.1</td>\n",
       "      <td>50</td>\n",
       "      <td>Yes</td>\n",
       "      <td>Environmental</td>\n",
       "      <td>Yes</td>\n",
       "      <td>0.27</td>\n",
       "      <td>Evening</td>\n",
       "    </tr>\n",
       "    <tr>\n",
       "      <th>4</th>\n",
       "      <td>Northern</td>\n",
       "      <td>Delhi</td>\n",
       "      <td>Delhi</td>\n",
       "      <td>Jantar Mantar</td>\n",
       "      <td>Observatory</td>\n",
       "      <td>1724</td>\n",
       "      <td>2.0</td>\n",
       "      <td>4.2</td>\n",
       "      <td>15</td>\n",
       "      <td>Yes</td>\n",
       "      <td>Scientific</td>\n",
       "      <td>Yes</td>\n",
       "      <td>0.31</td>\n",
       "      <td>Morning</td>\n",
       "    </tr>\n",
       "  </tbody>\n",
       "</table>\n",
       "</div>"
      ],
      "text/plain": [
       "       Zone  State   City                  Name          Type  \\\n",
       "0  Northern  Delhi  Delhi            India Gate  War Memorial   \n",
       "1  Northern  Delhi  Delhi        Humayun's Tomb          Tomb   \n",
       "2  Northern  Delhi  Delhi     Akshardham Temple        Temple   \n",
       "3  Northern  Delhi  Delhi  Waste to Wonder Park    Theme Park   \n",
       "4  Northern  Delhi  Delhi         Jantar Mantar   Observatory   \n",
       "\n",
       "  Establishment Year  time needed to visit in hrs  Google review rating  \\\n",
       "0               1921                          0.5                   4.6   \n",
       "1               1572                          2.0                   4.5   \n",
       "2               2005                          5.0                   4.6   \n",
       "3               2019                          2.0                   4.1   \n",
       "4               1724                          2.0                   4.2   \n",
       "\n",
       "   Entrance Fee in INR Airport with 50km Radius   Significance DSLR Allowed  \\\n",
       "0                    0                      Yes     Historical          Yes   \n",
       "1                   30                      Yes     Historical          Yes   \n",
       "2                   60                      Yes      Religious           No   \n",
       "3                   50                      Yes  Environmental          Yes   \n",
       "4                   15                      Yes     Scientific          Yes   \n",
       "\n",
       "   Number of google review in lakhs Best Time to visit  \n",
       "0                              2.60            Evening  \n",
       "1                              0.40          Afternoon  \n",
       "2                              0.40          Afternoon  \n",
       "3                              0.27            Evening  \n",
       "4                              0.31            Morning  "
      ]
     },
     "execution_count": 78,
     "metadata": {},
     "output_type": "execute_result"
    }
   ],
   "source": [
    "df.head()"
   ]
  },
  {
   "cell_type": "code",
   "execution_count": 82,
   "metadata": {},
   "outputs": [
    {
     "data": {
      "text/plain": [
       "<Axes: xlabel='Best Time to visit'>"
      ]
     },
     "execution_count": 82,
     "metadata": {},
     "output_type": "execute_result"
    },
    {
     "data": {
      "image/png": "[encoded data removed]",
      "text/plain": [
       "<Figure size 640x480 with 1 Axes>"
      ]
     },
     "metadata": {},
     "output_type": "display_data"
    }
   ],
   "source": [
    "# lets see what the best time to visit is with a bar chart\n",
    "df[\"Best Time to visit\"].value_counts().plot.bar()\n",
    "# df[\"Best Time to visit\"].value_counts().plot.pie(autopct=\"%1.1f%%\")"
   ]
  },
  {
   "cell_type": "code",
   "execution_count": 84,
   "metadata": {},
   "outputs": [
    {
     "data": {
      "text/plain": [
       "<Axes: ylabel='count'>"
      ]
     },
     "execution_count": 84,
     "metadata": {},
     "output_type": "execute_result"
    },
    {
     "data": {
      "image/png": "[encoded data removed]",
      "text/plain": [
       "<Figure size 640x480 with 1 Axes>"
      ]
     },
     "metadata": {},
     "output_type": "display_data"
    }
   ],
   "source": [
    "# lets see what the best time to visit places in delhi are\n",
    "df[df[\"City\"] == \"Delhi\"][\"Best Time to visit\"].value_counts().plot.pie(\n",
    "    autopct=\"%1.1f%%\"\n",
    ")"
   ]
  },
  {
   "cell_type": "code",
   "execution_count": 85,
   "metadata": {},
   "outputs": [
    {
     "data": {
      "text/html": [
       "<div>\n",
       "<style scoped>\n",
       "    .dataframe tbody tr th:only-of-type {\n",
       "        vertical-align: middle;\n",
       "    }\n",
       "\n",
       "    .dataframe tbody tr th {\n",
       "        vertical-align: top;\n",
       "    }\n",
       "\n",
       "    .dataframe thead th {\n",
       "        text-align: right;\n",
       "    }\n",
       "</style>\n",
       "<table border=\"1\" class=\"dataframe\">\n",
       "  <thead>\n",
       "    <tr style=\"text-align: right;\">\n",
       "      <th></th>\n",
       "      <th>Zone</th>\n",
       "      <th>State</th>\n",
       "      <th>City</th>\n",
       "      <th>Name</th>\n",
       "      <th>Type</th>\n",
       "      <th>Establishment Year</th>\n",
       "      <th>time needed to visit in hrs</th>\n",
       "      <th>Google review rating</th>\n",
       "      <th>Entrance Fee in INR</th>\n",
       "      <th>Airport with 50km Radius</th>\n",
       "      <th>Significance</th>\n",
       "      <th>DSLR Allowed</th>\n",
       "      <th>Number of google review in lakhs</th>\n",
       "      <th>Best Time to visit</th>\n",
       "    </tr>\n",
       "  </thead>\n",
       "  <tbody>\n",
       "    <tr>\n",
       "      <th>0</th>\n",
       "      <td>Northern</td>\n",
       "      <td>Delhi</td>\n",
       "      <td>Delhi</td>\n",
       "      <td>India Gate</td>\n",
       "      <td>War Memorial</td>\n",
       "      <td>1921</td>\n",
       "      <td>0.5</td>\n",
       "      <td>4.6</td>\n",
       "      <td>0</td>\n",
       "      <td>Yes</td>\n",
       "      <td>Historical</td>\n",
       "      <td>Yes</td>\n",
       "      <td>2.60</td>\n",
       "      <td>Evening</td>\n",
       "    </tr>\n",
       "    <tr>\n",
       "      <th>1</th>\n",
       "      <td>Northern</td>\n",
       "      <td>Delhi</td>\n",
       "      <td>Delhi</td>\n",
       "      <td>Humayun's Tomb</td>\n",
       "      <td>Tomb</td>\n",
       "      <td>1572</td>\n",
       "      <td>2.0</td>\n",
       "      <td>4.5</td>\n",
       "      <td>30</td>\n",
       "      <td>Yes</td>\n",
       "      <td>Historical</td>\n",
       "      <td>Yes</td>\n",
       "      <td>0.40</td>\n",
       "      <td>Afternoon</td>\n",
       "    </tr>\n",
       "    <tr>\n",
       "      <th>2</th>\n",
       "      <td>Northern</td>\n",
       "      <td>Delhi</td>\n",
       "      <td>Delhi</td>\n",
       "      <td>Akshardham Temple</td>\n",
       "      <td>Temple</td>\n",
       "      <td>2005</td>\n",
       "      <td>5.0</td>\n",
       "      <td>4.6</td>\n",
       "      <td>60</td>\n",
       "      <td>Yes</td>\n",
       "      <td>Religious</td>\n",
       "      <td>No</td>\n",
       "      <td>0.40</td>\n",
       "      <td>Afternoon</td>\n",
       "    </tr>\n",
       "    <tr>\n",
       "      <th>3</th>\n",
       "      <td>Northern</td>\n",
       "      <td>Delhi</td>\n",
       "      <td>Delhi</td>\n",
       "      <td>Waste to Wonder Park</td>\n",
       "      <td>Theme Park</td>\n",
       "      <td>2019</td>\n",
       "      <td>2.0</td>\n",
       "      <td>4.1</td>\n",
       "      <td>50</td>\n",
       "      <td>Yes</td>\n",
       "      <td>Environmental</td>\n",
       "      <td>Yes</td>\n",
       "      <td>0.27</td>\n",
       "      <td>Evening</td>\n",
       "    </tr>\n",
       "    <tr>\n",
       "      <th>4</th>\n",
       "      <td>Northern</td>\n",
       "      <td>Delhi</td>\n",
       "      <td>Delhi</td>\n",
       "      <td>Jantar Mantar</td>\n",
       "      <td>Observatory</td>\n",
       "      <td>1724</td>\n",
       "      <td>2.0</td>\n",
       "      <td>4.2</td>\n",
       "      <td>15</td>\n",
       "      <td>Yes</td>\n",
       "      <td>Scientific</td>\n",
       "      <td>Yes</td>\n",
       "      <td>0.31</td>\n",
       "      <td>Morning</td>\n",
       "    </tr>\n",
       "  </tbody>\n",
       "</table>\n",
       "</div>"
      ],
      "text/plain": [
       "       Zone  State   City                  Name          Type  \\\n",
       "0  Northern  Delhi  Delhi            India Gate  War Memorial   \n",
       "1  Northern  Delhi  Delhi        Humayun's Tomb          Tomb   \n",
       "2  Northern  Delhi  Delhi     Akshardham Temple        Temple   \n",
       "3  Northern  Delhi  Delhi  Waste to Wonder Park    Theme Park   \n",
       "4  Northern  Delhi  Delhi         Jantar Mantar   Observatory   \n",
       "\n",
       "  Establishment Year  time needed to visit in hrs  Google review rating  \\\n",
       "0               1921                          0.5                   4.6   \n",
       "1               1572                          2.0                   4.5   \n",
       "2               2005                          5.0                   4.6   \n",
       "3               2019                          2.0                   4.1   \n",
       "4               1724                          2.0                   4.2   \n",
       "\n",
       "   Entrance Fee in INR Airport with 50km Radius   Significance DSLR Allowed  \\\n",
       "0                    0                      Yes     Historical          Yes   \n",
       "1                   30                      Yes     Historical          Yes   \n",
       "2                   60                      Yes      Religious           No   \n",
       "3                   50                      Yes  Environmental          Yes   \n",
       "4                   15                      Yes     Scientific          Yes   \n",
       "\n",
       "   Number of google review in lakhs Best Time to visit  \n",
       "0                              2.60            Evening  \n",
       "1                              0.40          Afternoon  \n",
       "2                              0.40          Afternoon  \n",
       "3                              0.27            Evening  \n",
       "4                              0.31            Morning  "
      ]
     },
     "execution_count": 85,
     "metadata": {},
     "output_type": "execute_result"
    }
   ],
   "source": [
    "df.head()"
   ]
  },
  {
   "cell_type": "code",
   "execution_count": 103,
   "metadata": {},
   "outputs": [],
   "source": [
    "top_5_types = df[\"Type\"].value_counts().head()\n",
    "# lets filter df by these\n",
    "df_top_5 = df[df[\"Type\"].isin(top_5_types.index)]"
   ]
  },
  {
   "cell_type": "code",
   "execution_count": 104,
   "metadata": {},
   "outputs": [
    {
     "data": {
      "text/plain": [
       "<Axes: ylabel='count'>"
      ]
     },
     "execution_count": 104,
     "metadata": {},
     "output_type": "execute_result"
    },
    {
     "data": {
      "image/png": "[encoded data removed]",
      "text/plain": [
       "<Figure size 640x480 with 1 Axes>"
      ]
     },
     "metadata": {},
     "output_type": "display_data"
    }
   ],
   "source": [
    "# lets see the top 5 kinds of places by making a pie chart\n",
    "df_top_5[\"Type\"].value_counts().plot.pie(autopct=\"%1.1f%%\")"
   ]
  },
  {
   "cell_type": "code",
   "execution_count": 105,
   "metadata": {},
   "outputs": [
    {
     "data": {
      "text/plain": [
       "<seaborn.axisgrid.FacetGrid at 0x1d85df57100>"
      ]
     },
     "execution_count": 105,
     "metadata": {},
     "output_type": "execute_result"
    },
    {
     "data": {
      "image/png": "[encoded data removed]",
      "text/plain": [
       "<Figure size 500x500 with 1 Axes>"
      ]
     },
     "metadata": {},
     "output_type": "display_data"
    }
   ],
   "source": [
    "# lets now see which are the most highly rated\n",
    "sns.catplot(data=df_top_5, x=\"Type\", y=\"Google review rating\", kind=\"bar\", hue=\"Type\")"
   ]
  },
  {
   "cell_type": "code",
   "execution_count": null,
   "metadata": {},
   "outputs": [],
   "source": []
  }
 ],
 "metadata": {
  "kernelspec": {
   "display_name": "DSMLEnv",
   "language": "python",
   "name": "python3"
  },
  "language_info": {
   "codemirror_mode": {
    "name": "ipython",
    "version": 3
   },
   "file_extension": ".py",
   "mimetype": "text/x-python",
   "name": "python",
   "nbconvert_exporter": "python",
   "pygments_lexer": "ipython3",
   "version": "3.10.8"
  }
 },
 "nbformat": 4,
 "nbformat_minor": 2
}
