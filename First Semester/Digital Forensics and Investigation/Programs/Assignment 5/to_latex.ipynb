{
 "cells": [
  {
   "cell_type": "markdown",
   "metadata": {
    "collapsed": false,
    "jupyter": {
     "outputs_hidden": false
    },
    "pycharm": {
     "name": "#%% md\n"
    }
   },
   "source": [
    "## Downloading Email Headers"
   ]
  },
  {
   "cell_type": "code",
   "execution_count": 1,
   "metadata": {
    "collapsed": false,
    "jupyter": {
     "outputs_hidden": false
    },
    "pycharm": {
     "name": "#%%\n"
    }
   },
   "outputs": [],
   "source": [
    "username = \"krishnaraj.kpt@outlook.com\"\n",
    "password = \"BBQtJTSs8uQh57aw\"\n",
    "imap_server = \"outlook.office365.com\""
   ]
  },
  {
   "cell_type": "code",
   "execution_count": 5,
   "metadata": {
    "collapsed": false,
    "jupyter": {
     "outputs_hidden": false
    },
    "pycharm": {
     "name": "#%%\n"
    }
   },
   "outputs": [],
   "source": [
    "import imaplib\n",
    "import email\n",
    "from email.header import decode_header\n",
    "from email.parser import BytesParser\n",
    "import json"
   ]
  },
  {
   "cell_type": "markdown",
   "metadata": {
    "collapsed": false,
    "jupyter": {
     "outputs_hidden": false
    },
    "pycharm": {
     "name": "#%% md\n"
    }
   },
   "source": [
    "Creating Imap Object"
   ]
  },
  {
   "cell_type": "code",
   "execution_count": 6,
   "metadata": {
    "collapsed": false,
    "jupyter": {
     "outputs_hidden": false
    },
    "pycharm": {
     "name": "#%%\n"
    }
   },
   "outputs": [
    {
     "name": "stdout",
     "output_type": "stream",
     "text": [
      "The Total Number of Messages in your account are:  1017\n"
     ]
    }
   ],
   "source": [
    "# create an IMAP4 class with SSL\n",
    "imap = imaplib.IMAP4_SSL(imap_server)\n",
    "# authenticate\n",
    "imap.login(username, password)\n",
    "status, messages = imap.select(\"INBOX\")\n",
    "\n",
    "# number of top emails to fetch\n",
    "N = 15\n",
    "\n",
    "# total number of emails\n",
    "messages = int(messages[0])\n",
    "print(\"The Total Number of Messages in your account are: \", messages)"
   ]
  },
  {
   "cell_type": "markdown",
   "metadata": {
    "collapsed": false,
    "jupyter": {
     "outputs_hidden": false
    },
    "pycharm": {
     "name": "#%% md\n"
    }
   },
   "source": [
    "Downloading Headers"
   ]
  },
  {
   "cell_type": "code",
   "execution_count": 7,
   "metadata": {
    "collapsed": false,
    "jupyter": {
     "outputs_hidden": false
    },
    "pycharm": {
     "name": "#%%\n"
    }
   },
   "outputs": [],
   "source": [
    "# create a list to store the emails\n",
    "emails = []\n",
    "\n",
    "# fetch the top N email headers\n",
    "for i in range(messages - N, messages + 1):\n",
    "    # fetch the email header\n",
    "    result, data = imap.fetch(str(i + 1), \"(RFC822.HEADER)\")\n",
    "    if result == \"OK\":\n",
    "        # parse the email header\n",
    "        email_parser = BytesParser()\n",
    "        email_header = email_parser.parsebytes(data[0][1])\n",
    "\n",
    "        # create a dictionary to store the email header\n",
    "        email = {\n",
    "            \"subject\": email_header[\"Subject\"],\n",
    "            \"headers\": [],\n",
    "        }\n",
    "\n",
    "        # add the email headers to the dictionary\n",
    "        for header in email_header.items():\n",
    "            email[\"headers\"].append({\n",
    "                \"header\": header[0],\n",
    "                \"value\": header[1],\n",
    "            })\n",
    "\n",
    "        # add the email to the list of emails\n",
    "        emails.append(email)\n",
    "\n",
    "# close the IMAP connection\n",
    "imap.close()\n",
    "\n",
    "# write the emails to a JSON file\n",
    "with open(\"emails.json\", \"w\") as f:\n",
    "    json.dump(emails, f, indent=4)"
   ]
  },
  {
   "cell_type": "markdown",
   "metadata": {
    "collapsed": false,
    "jupyter": {
     "outputs_hidden": false
    },
    "pycharm": {
     "name": "#%% md\n"
    }
   },
   "source": [
    "Converting the json file to a python dictionary"
   ]
  },
  {
   "cell_type": "code",
   "execution_count": 92,
   "metadata": {
    "collapsed": false,
    "jupyter": {
     "outputs_hidden": false
    },
    "pycharm": {
     "name": "#%%\n"
    }
   },
   "outputs": [],
   "source": [
    "import json\n",
    "with open(\"emails.json\", \"r\") as f:\n",
    "    emails = json.load(f)"
   ]
  },
  {
   "cell_type": "markdown",
   "metadata": {
    "collapsed": false,
    "jupyter": {
     "outputs_hidden": false
    },
    "pycharm": {
     "name": "#%% md\n"
    }
   },
   "source": [
    "Looking at Header keys of one of the emails"
   ]
  },
  {
   "cell_type": "code",
   "execution_count": 93,
   "metadata": {
    "collapsed": false,
    "jupyter": {
     "outputs_hidden": false
    },
    "pycharm": {
     "name": "#%%\n"
    }
   },
   "outputs": [],
   "source": [
    "header_names = [i['header'] for i in emails[1][\"headers\"]]"
   ]
  },
  {
   "cell_type": "markdown",
   "metadata": {
    "collapsed": false,
    "jupyter": {
     "outputs_hidden": false
    },
    "pycharm": {
     "name": "#%% md\n"
    }
   },
   "source": [
    "Focusing on 8 Test Emails"
   ]
  },
  {
   "cell_type": "code",
   "execution_count": 94,
   "metadata": {
    "collapsed": false,
    "jupyter": {
     "outputs_hidden": false
    },
    "pycharm": {
     "name": "#%%\n"
    }
   },
   "outputs": [],
   "source": [
    "emails = emails[2:20]"
   ]
  },
  {
   "cell_type": "markdown",
   "metadata": {
    "collapsed": false,
    "jupyter": {
     "outputs_hidden": false
    },
    "pycharm": {
     "name": "#%% md\n"
    }
   },
   "source": [
    "Looking at their Subjects"
   ]
  },
  {
   "cell_type": "code",
   "execution_count": 95,
   "metadata": {
    "collapsed": false,
    "jupyter": {
     "outputs_hidden": false
    },
    "pycharm": {
     "name": "#%%\n"
    }
   },
   "outputs": [
    {
     "data": {
      "text/plain": "['Sending from phone gmail app',\n 'Self mail from web outlook client',\n 'Self test mail from gmail web client',\n 'self test mail from mit gmail client',\n 'From movile outlook app',\n 'Mail sent from phone',\n \"Mother's phone Gmail app\",\n 'Sending from browser with vpn connection on',\n 'Sending from browser with vpn connection on',\n 'Sending from browser using mobile hotspot',\n '[weekly] report for 2023-10-23 until 2023-10-29',\n 'Spell Casting, Ghostly Reveals, and a Halloween Party',\n '[GitHub] Your Dependabot alerts for the week of Oct 24 - Oct 31']"
     },
     "execution_count": 95,
     "metadata": {},
     "output_type": "execute_result"
    }
   ],
   "source": [
    "[i['subject'] for i in emails]"
   ]
  },
  {
   "cell_type": "markdown",
   "metadata": {
    "collapsed": false,
    "jupyter": {
     "outputs_hidden": false
    },
    "pycharm": {
     "name": "#%% md\n"
    }
   },
   "source": [
    "Analyse each header and find out what it means"
   ]
  },
  {
   "cell_type": "code",
   "execution_count": 96,
   "metadata": {
    "collapsed": false,
    "jupyter": {
     "outputs_hidden": false
    },
    "pycharm": {
     "name": "#%%\n"
    }
   },
   "outputs": [
    {
     "name": "stdout",
     "output_type": "stream",
     "text": [
      "Total number of headers in provided email:  57\n"
     ]
    }
   ],
   "source": [
    "print(\"Total number of headers in provided email: \", len(header_names))"
   ]
  },
  {
   "cell_type": "code",
   "execution_count": 97,
   "metadata": {
    "collapsed": false,
    "jupyter": {
     "outputs_hidden": false
    },
    "pycharm": {
     "name": "#%%\n"
    }
   },
   "outputs": [
    {
     "name": "stdout",
     "output_type": "stream",
     "text": [
      "0 MIME-Version\n",
      "1 Received\n",
      "2 Received\n",
      "3 Received\n",
      "4 Authentication-Results\n",
      "5 Received-SPF\n",
      "6 Received\n",
      "7 X-IncomingTopHeaderMarker\n",
      "8 Received\n",
      "9 DKIM-Signature\n",
      "10 X-Google-DKIM-Signature\n",
      "11 X-Gm-Message-State\n",
      "12 X-Google-Smtp-Source\n",
      "13 X-Received\n",
      "14 From\n",
      "15 Date\n",
      "16 Message-ID\n",
      "17 Subject\n",
      "18 To\n",
      "19 Content-Type\n",
      "20 X-IncomingHeaderCount\n",
      "21 Return-Path\n",
      "22 X-MS-Exchange-Organization-ExpirationStartTime\n",
      "23 X-MS-Exchange-Organization-ExpirationStartTimeReason\n",
      "24 X-MS-Exchange-Organization-ExpirationInterval\n",
      "25 X-MS-Exchange-Organization-ExpirationIntervalReason\n",
      "26 X-MS-Exchange-Organization-Network-Message-Id\n",
      "27 X-EOPAttributedMessage\n",
      "28 X-EOPTenantAttributedMessage\n",
      "29 X-MS-Exchange-Organization-MessageDirectionality\n",
      "30 X-MS-PublicTrafficType\n",
      "31 X-MS-TrafficTypeDiagnostic\n",
      "32 X-MS-Exchange-Organization-AuthSource\n",
      "33 X-MS-Exchange-Organization-AuthAs\n",
      "34 X-MS-UserLastLogonTime\n",
      "35 X-MS-Office365-Filtering-Correlation-Id\n",
      "36 X-MS-Exchange-EOPDirect\n",
      "37 X-Sender-IP\n",
      "38 X-SID-PRA\n",
      "39 X-SID-Result\n",
      "40 X-MS-Exchange-Organization-PCL\n",
      "41 X-MS-Exchange-Organization-SCL\n",
      "42 X-Microsoft-Antispam\n",
      "43 X-MS-Exchange-CrossTenant-OriginalArrivalTime\n",
      "44 X-MS-Exchange-CrossTenant-Network-Message-Id\n",
      "45 X-MS-Exchange-CrossTenant-Id\n",
      "46 X-MS-Exchange-CrossTenant-AuthSource\n",
      "47 X-MS-Exchange-CrossTenant-AuthAs\n",
      "48 X-MS-Exchange-CrossTenant-FromEntityHeader\n",
      "49 X-MS-Exchange-CrossTenant-RMS-PersistedConsumerOrg\n",
      "50 X-MS-Exchange-Transport-CrossTenantHeadersStamped\n",
      "51 X-MS-Exchange-Transport-EndToEndLatency\n",
      "52 X-MS-Exchange-Processed-By-BccFoldering\n",
      "53 X-Microsoft-Antispam-Mailbox-Delivery\n",
      "54 X-Message-Info\n",
      "55 X-Message-Delivery\n",
      "56 X-Microsoft-Antispam-Message-Info\n"
     ]
    }
   ],
   "source": [
    "# print header names with their index\n",
    "for index, header in enumerate(header_names):\n",
    "    print(index, header)"
   ]
  },
  {
   "cell_type": "markdown",
   "metadata": {
    "collapsed": false,
    "jupyter": {
     "outputs_hidden": false
    },
    "pycharm": {
     "name": "#%% md\n"
    }
   },
   "source": [
    "### MIME-Version\n",
    "\n",
    "MIME-Version indicates the email's message format. It's important in investigations to understand how the message is structured and if it includes multimedia or attachments."
   ]
  },
  {
   "cell_type": "code",
   "execution_count": 73,
   "metadata": {
    "collapsed": false,
    "jupyter": {
     "outputs_hidden": false
    },
    "pycharm": {
     "name": "#%%\n"
    }
   },
   "outputs": [
    {
     "data": {
      "text/plain": "('MIME-Version', '1.0')"
     },
     "execution_count": 73,
     "metadata": {},
     "output_type": "execute_result"
    }
   ],
   "source": [
    "emails[1]['headers'][0]['header'], emails[1]['headers'][0]['value']"
   ]
  },
  {
   "cell_type": "markdown",
   "metadata": {
    "collapsed": false,
    "jupyter": {
     "outputs_hidden": false
    },
    "pycharm": {
     "name": "#%% md\n"
    }
   },
   "source": [
    "### Received\n",
    "\n",
    "Received headers track the path of the email through various servers. This is crucial for tracing the email's journey, identifying potential anomalies, or investigating its source.\n"
   ]
  },
  {
   "cell_type": "code",
   "execution_count": 74,
   "metadata": {
    "collapsed": false,
    "jupyter": {
     "outputs_hidden": false
    },
    "pycharm": {
     "name": "#%%\n"
    }
   },
   "outputs": [
    {
     "data": {
      "text/plain": "('Received',\n 'from CY8PR17MB6329.namprd17.prod.outlook.com (2603:10b6:930:9c::12)\\r\\n by DS7PR17MB6730.namprd17.prod.outlook.com with HTTPS; Sun, 29 Oct 2023\\r\\n 17:38:15 +0000')"
     },
     "execution_count": 74,
     "metadata": {},
     "output_type": "execute_result"
    }
   ],
   "source": [
    "emails[1]['headers'][1]['header'], emails[1]['headers'][1]['value']"
   ]
  },
  {
   "cell_type": "markdown",
   "metadata": {
    "collapsed": false,
    "jupyter": {
     "outputs_hidden": false
    },
    "pycharm": {
     "name": "#%% md\n"
    }
   },
   "source": [
    "### ARC-Seal\n",
    "\n",
    "ARC (Authenticated Received Chain) headers help verify the authenticity of email forwarding. ARC-Seal ensures the integrity of email headers, reducing the risk of spoofing.\n"
   ]
  },
  {
   "cell_type": "code",
   "execution_count": 75,
   "metadata": {
    "collapsed": false,
    "jupyter": {
     "outputs_hidden": false
    },
    "pycharm": {
     "name": "#%%\n"
    }
   },
   "outputs": [
    {
     "data": {
      "text/plain": "('Received',\n 'from GVX0EPF000013EC.SWEP280.PROD.OUTLOOK.COM (2603:10a6:144:1::19)\\r\\n by CY8PR17MB6329.namprd17.prod.outlook.com (2603:10b6:930:9c::12) with\\r\\n Microsoft SMTP Server (version=TLS1_2,\\r\\n cipher=TLS_ECDHE_RSA_WITH_AES_256_GCM_SHA384) id 15.20.6954.8; Sun, 29 Oct\\r\\n 2023 17:38:14 +0000')"
     },
     "execution_count": 75,
     "metadata": {},
     "output_type": "execute_result"
    }
   ],
   "source": [
    "emails[1]['headers'][2]['header'], emails[1]['headers'][2]['value']"
   ]
  },
  {
   "cell_type": "markdown",
   "metadata": {
    "collapsed": false,
    "jupyter": {
     "outputs_hidden": false
    },
    "pycharm": {
     "name": "#%% md\n"
    }
   },
   "source": [
    "### ARC-Message-Signature\n",
    "\n",
    "ARC-Message-Signature is part of ARC headers and provides cryptographic assurance of email header integrity, aiding in detecting email tampering.\n"
   ]
  },
  {
   "cell_type": "code",
   "execution_count": 76,
   "metadata": {
    "collapsed": false,
    "jupyter": {
     "outputs_hidden": false
    },
    "pycharm": {
     "name": "#%%\n"
    }
   },
   "outputs": [
    {
     "data": {
      "text/plain": "('Received',\n 'from HE1EUR04FT029.eop-eur04.prod.protection.outlook.com\\r\\n (2a01:111:f400:7e0d::208) by GVX0EPF000013EC.outlook.office365.com\\r\\n (2603:1026:900:2::3) with Microsoft SMTP Server (version=TLS1_2,\\r\\n cipher=TLS_ECDHE_RSA_WITH_AES_256_GCM_SHA384) id 15.20.6792.35 via Frontend\\r\\n Transport; Sun, 29 Oct 2023 17:38:13 +0000')"
     },
     "execution_count": 76,
     "metadata": {},
     "output_type": "execute_result"
    }
   ],
   "source": [
    "emails[1]['headers'][3]['header'], emails[1]['headers'][3]['value']"
   ]
  },
  {
   "cell_type": "markdown",
   "metadata": {
    "collapsed": false,
    "jupyter": {
     "outputs_hidden": false
    },
    "pycharm": {
     "name": "#%% md\n"
    }
   },
   "source": [
    "### ARC-Authentication-Results\n",
    "\n",
    "These headers indicate the email's authentication status. Investigators can use this to assess the email's legitimacy and potential for phishing.\n"
   ]
  },
  {
   "cell_type": "code",
   "execution_count": 77,
   "metadata": {
    "collapsed": false,
    "jupyter": {
     "outputs_hidden": false
    },
    "pycharm": {
     "name": "#%%\n"
    }
   },
   "outputs": [
    {
     "data": {
      "text/plain": "('Authentication-Results',\n 'spf=pass (sender IP is 209.85.160.175)\\r\\n smtp.mailfrom=gmail.com; dkim=pass (signature was verified)\\r\\n header.d=gmail.com;dmarc=pass action=none header.from=gmail.com;compauth=pass\\r\\n reason=100')"
     },
     "execution_count": 77,
     "metadata": {},
     "output_type": "execute_result"
    }
   ],
   "source": [
    "emails[1]['headers'][4]['header'], emails[1]['headers'][4]['value']"
   ]
  },
  {
   "cell_type": "markdown",
   "metadata": {
    "collapsed": false,
    "jupyter": {
     "outputs_hidden": false
    },
    "pycharm": {
     "name": "#%% md\n"
    }
   },
   "source": [
    "### DKIM-Signature\n",
    "\n",
    "DKIM (DomainKeys Identified Mail) verifies that the email content hasn't been altered in transit. It's crucial for email integrity checks and source verification.\n"
   ]
  },
  {
   "cell_type": "code",
   "execution_count": 78,
   "metadata": {
    "collapsed": false,
    "jupyter": {
     "outputs_hidden": false
    },
    "pycharm": {
     "name": "#%%\n"
    }
   },
   "outputs": [
    {
     "data": {
      "text/plain": "('From', 'VEDANG KHARE <vedangkhare28@gmail.com>')"
     },
     "execution_count": 78,
     "metadata": {},
     "output_type": "execute_result"
    }
   ],
   "source": [
    "emails[1]['headers'][14]['header'], emails[1]['headers'][14]['value']"
   ]
  },
  {
   "cell_type": "markdown",
   "metadata": {
    "collapsed": false,
    "jupyter": {
     "outputs_hidden": false
    },
    "pycharm": {
     "name": "#%% md\n"
    }
   },
   "source": [
    "### From\n",
    "\n",
    "The \"From\" header shows the sender's email address. It's essential for identifying the sender, although it can be spoofed.\n"
   ]
  },
  {
   "cell_type": "code",
   "execution_count": 79,
   "metadata": {
    "collapsed": false,
    "jupyter": {
     "outputs_hidden": false
    },
    "pycharm": {
     "name": "#%%\n"
    }
   },
   "outputs": [
    {
     "data": {
      "text/plain": "('Subject', 'Mail sent from phone')"
     },
     "execution_count": 79,
     "metadata": {},
     "output_type": "execute_result"
    }
   ],
   "source": [
    "emails[1]['headers'][17]['header'], emails[1]['headers'][17]['value']"
   ]
  },
  {
   "cell_type": "markdown",
   "metadata": {
    "collapsed": false,
    "jupyter": {
     "outputs_hidden": false
    },
    "pycharm": {
     "name": "#%% md\n"
    }
   },
   "source": [
    "### To\n",
    "\n",
    "The \"To\" header reveals the email's recipient, which is significant for understanding the email's target and potential threat actors.\n"
   ]
  },
  {
   "cell_type": "code",
   "execution_count": 80,
   "metadata": {
    "collapsed": false,
    "jupyter": {
     "outputs_hidden": false
    },
    "pycharm": {
     "name": "#%%\n"
    }
   },
   "outputs": [
    {
     "data": {
      "text/plain": "('To', 'krishnaraj.kpt@outlook.com')"
     },
     "execution_count": 80,
     "metadata": {},
     "output_type": "execute_result"
    }
   ],
   "source": [
    "emails[1]['headers'][18]['header'], emails[1]['headers'][18]['value']"
   ]
  },
  {
   "cell_type": "markdown",
   "metadata": {
    "collapsed": false,
    "jupyter": {
     "outputs_hidden": false
    },
    "pycharm": {
     "name": "#%% md\n"
    }
   },
   "source": [
    "### Subject\n",
    "\n",
    "The subject line provides insight into the email's content, which is crucial for assessing the email's purpose and relevance to an investigation.\n"
   ]
  },
  {
   "cell_type": "code",
   "execution_count": 81,
   "metadata": {
    "collapsed": false,
    "jupyter": {
     "outputs_hidden": false
    },
    "pycharm": {
     "name": "#%%\n"
    }
   },
   "outputs": [
    {
     "data": {
      "text/plain": "('Content-Type',\n 'multipart/alternative; boundary=\"000000000000c264ca0608de62f0\"')"
     },
     "execution_count": 81,
     "metadata": {},
     "output_type": "execute_result"
    }
   ],
   "source": [
    "emails[1]['headers'][19]['header'], emails[1]['headers'][19]['value']"
   ]
  },
  {
   "cell_type": "markdown",
   "metadata": {
    "collapsed": false,
    "jupyter": {
     "outputs_hidden": false
    },
    "pycharm": {
     "name": "#%% md\n"
    }
   },
   "source": [
    "### Date\n",
    "\n",
    "The date header shows when the email was sent. It's valuable for establishing timelines and correlations with other events.\n"
   ]
  },
  {
   "cell_type": "code",
   "execution_count": 82,
   "metadata": {
    "collapsed": false,
    "jupyter": {
     "outputs_hidden": false
    },
    "pycharm": {
     "name": "#%%\n"
    }
   },
   "outputs": [
    {
     "data": {
      "text/plain": "('X-MS-Exchange-Organization-ExpirationStartTime',\n '29 Oct 2023 17:38:13.5337\\r\\n (UTC)')"
     },
     "execution_count": 82,
     "metadata": {},
     "output_type": "execute_result"
    }
   ],
   "source": [
    "emails[1]['headers'][22]['header'], emails[1]['headers'][22]['value']"
   ]
  },
  {
   "cell_type": "markdown",
   "metadata": {
    "collapsed": false,
    "jupyter": {
     "outputs_hidden": false
    },
    "pycharm": {
     "name": "#%% md\n"
    }
   },
   "source": [
    "### Message-ID\n",
    "\n",
    "The Message-ID is unique to each email and can be used for tracking and associating related messages in an investigation.\n"
   ]
  },
  {
   "cell_type": "code",
   "execution_count": 83,
   "metadata": {
    "collapsed": false,
    "jupyter": {
     "outputs_hidden": false
    },
    "pycharm": {
     "name": "#%%\n"
    }
   },
   "outputs": [
    {
     "data": {
      "text/plain": "('X-MS-Exchange-Organization-ExpirationStartTimeReason', 'OriginalSubmit')"
     },
     "execution_count": 83,
     "metadata": {},
     "output_type": "execute_result"
    }
   ],
   "source": [
    "emails[1]['headers'][23]['header'], emails[1]['headers'][23]['value']"
   ]
  },
  {
   "cell_type": "markdown",
   "metadata": {
    "collapsed": false,
    "jupyter": {
     "outputs_hidden": false
    },
    "pycharm": {
     "name": "#%% md\n"
    }
   },
   "source": [
    "### Content-Type\n",
    "\n",
    "Content-Type specifies the format of the email content. It helps investigators interpret the email's structure and potential for malicious attachments.\n"
   ]
  },
  {
   "cell_type": "code",
   "execution_count": 84,
   "metadata": {
    "collapsed": false,
    "jupyter": {
     "outputs_hidden": false
    },
    "pycharm": {
     "name": "#%%\n"
    }
   },
   "outputs": [
    {
     "data": {
      "text/plain": "('X-MS-Exchange-EOPDirect', 'true')"
     },
     "execution_count": 84,
     "metadata": {},
     "output_type": "execute_result"
    }
   ],
   "source": [
    "emails[1]['headers'][36]['header'], emails[1]['headers'][36]['value']"
   ]
  },
  {
   "cell_type": "markdown",
   "metadata": {
    "collapsed": false,
    "jupyter": {
     "outputs_hidden": false
    },
    "pycharm": {
     "name": "#%% md\n"
    }
   },
   "source": [
    "### Return-Path\n",
    "\n",
    "Return-Path indicates where undeliverable emails should be sent. It can assist in identifying email redirection or bouncing patterns.\n"
   ]
  },
  {
   "cell_type": "code",
   "execution_count": 85,
   "metadata": {
    "collapsed": false,
    "jupyter": {
     "outputs_hidden": false
    },
    "pycharm": {
     "name": "#%%\n"
    }
   },
   "outputs": [
    {
     "data": {
      "text/plain": "('X-SID-Result', 'PASS')"
     },
     "execution_count": 85,
     "metadata": {},
     "output_type": "execute_result"
    }
   ],
   "source": [
    "emails[1]['headers'][39]['header'], emails[1]['headers'][39]['value']"
   ]
  },
  {
   "cell_type": "markdown",
   "metadata": {
    "collapsed": false,
    "jupyter": {
     "outputs_hidden": false
    },
    "pycharm": {
     "name": "#%% md\n"
    }
   },
   "source": [
    "### X-Sender-IP\n",
    "\n",
    "This header contains the IP address of the sender, which is essential for tracking the origin of the email and potential geolocation.\n"
   ]
  },
  {
   "cell_type": "code",
   "execution_count": 86,
   "metadata": {
    "collapsed": false,
    "jupyter": {
     "outputs_hidden": false
    },
    "pycharm": {
     "name": "#%%\n"
    }
   },
   "outputs": [
    {
     "data": {
      "text/plain": "('X-Microsoft-Antispam-Message-Info',\n '\\r\\n\\t=?utf-8?B?RUtYZHI2dzBrVlNHOTBnNTZYSHVydXFLNzEvZnd1eWMyZEU1QloyVE5iVGl6?=\\r\\n =?utf-8?B?RWxpWHJKTHcwTlcvVm5mdjY2ZTgvT252cHZPektaSjJ3U3FVanZ5dDV6T214?=\\r\\n =?utf-8?B?d0cwaWFnakpNUEJDS3BPQzhYZDZwL2NQMGhWckRtb1JpQ05GM3JuRFA0MVps?=\\r\\n =?utf-8?B?ejBBMU8yaXgrNWhvZmRHTHNtcWlLR1JYR3NsZjdZYjFBUHRDR1JqbU9sK2hx?=\\r\\n =?utf-8?B?aXFFejZqUGEvYWQzdVRvc09zMGhBcEFiYWFnOUhiMUx4MjJtWlZ0QU04aDc3?=\\r\\n =?utf-8?B?blgwWVNZQ0FMcCtxV2JmVFJZYVc3WHhyUXl3WFBjQWltOFFzZVp6aFNkbXRC?=\\r\\n =?utf-8?B?ekk2TGcrK0RHenVzMlBSaW9la1ZEV3F5U21JUk9Xd1RkUGxLZE5ZUGlsY2kv?=\\r\\n =?utf-8?B?MnRZdDVpTnhDeEsreWdWSjVITC91Wnd6bWtvaWM0Uk5QL1FIMTc0WlVUcUtZ?=\\r\\n =?utf-8?B?MlBJRDNtaHdUMzVpUG9mVWtGR1BTVDRmR20vMWZEZDZnTkdTbHdudU8vUWxY?=\\r\\n =?utf-8?B?M2dGMC9jZ3VHY21wUjIrRXNHMS9EVFd5Uno5UnNIZXprc3E2L0JMMWRHaXRs?=\\r\\n =?utf-8?B?OFdEblNOaDF0cEFlQkhkanppZVNKTUFlRzdzUS9wYkNRdTdpd0NIZlBNQy9M?=\\r\\n =?utf-8?B?aC8xUlFhWmlWTkhNNHdFNEVVVFpoeG9MRTRsWHVmOXhxcXhVbkcvVHhxQ3Uw?=\\r\\n =?utf-8?B?ZkJkMnFLcmxxckx3czVYMXB1bHczY3JNc1M2ZzFxTlBkVVBaNDMvUEZxcldT?=\\r\\n =?utf-8?B?Y29LdHFWcGJQcW9iVmo1K28rMFVVNGxrei9GcDlqU3dJakU4d0pKTFp2bUlX?=\\r\\n =?utf-8?B?RFB3VE16bjVPU2d1ekxabFl1b0hlWkYxcjhJTXJVOE5mNTF0VFdWZGNVNW9m?=\\r\\n =?utf-8?B?T2RwaTlMeU5EZ2g1dTFSMmF1d0Z6NXNVWUFwODFha1N2WmR0QzVuZWxERXpD?=\\r\\n =?utf-8?B?ek1JTDJSRUVKeHlLWkFiWXJpMlhSY0YrQk9nSW9KbjJ5U0JzRzdPVFF4OGJi?=\\r\\n =?utf-8?B?Yk1XRXpWS0pXU2ZocHVmaDN3UG5naDEzMjZFV1F6MDVDekk2WXlwcGc0MUpp?=\\r\\n =?utf-8?B?UHZsWndIWkxNalkrOVdudU9YaFdUVlJyRzZ1Mk9xZkJwTWgxSjl3M0hIK0Nw?=\\r\\n =?utf-8?B?OHUyTHNEc2p2K3JnbnlZdFZ1clEvbk5rL0JTNHorU2FFM2lhcmd1UDR4c1Rh?=\\r\\n =?utf-8?B?Y0ViZlNSNldkWHNZNHBGRWlIUlBrZ3hETzJYMjE4RjdxUi8vb1pRaXN6cE1S?=\\r\\n =?utf-8?B?NXZxMStYV1JZQ1VmVWZ0aXVvWFN0bnpnYTN3YXNwZG9neDVFaFZpdkNMaEpw?=\\r\\n =?utf-8?B?RDN1Zmt0U3llckJGRldDR1ZaY0NJdzZzcTJwY2hjQXdzcVl4SnRBZjZrdnRG?=\\r\\n =?utf-8?B?c29vZFIxOVBuR1J3ZWlGZ1Rma24zK2pra1J3b0Jhdy81MXRSRnVubGhNTUkx?=\\r\\n =?utf-8?B?Q1dpOGNoRjdLUmNSTEkrWlNFTStJaEJYbnB3cEdrckZ5cjV1enU5cXNLOUc2?=\\r\\n =?utf-8?B?OG5GYlpkcEwzNVBmZklSNGZma2FzM25YVjd1QUJHbWIzbThmOTI1eWg2d2kw?=\\r\\n =?utf-8?B?QStqQUNtZGZWWTdTdVMrRU9KQTFkYXVPenhmT1NaOE5pWkpWVzdUNDFhMC9k?=\\r\\n =?utf-8?B?TUlkaHBkbXpQdHlZVUVnMG1OVXZHSmxHWDJJT05GTGt4d25kUFFHaVIxUHRr?=\\r\\n =?utf-8?B?NUJGMEMvajN3OEkyZ2xMdkpqRlFubytxL2NSQmtTR1QrK2VUWkxVOXNBPT0=?=')"
     },
     "execution_count": 86,
     "metadata": {},
     "output_type": "execute_result"
    }
   ],
   "source": [
    "emails[1]['headers'][56]['header'], emails[1]['headers'][56]['value']"
   ]
  },
  {
   "cell_type": "markdown",
   "metadata": {
    "collapsed": false,
    "jupyter": {
     "outputs_hidden": false
    },
    "pycharm": {
     "name": "#%% md\n"
    }
   },
   "source": [
    "### X-MS-Exchange-Transport-EndToEndLatency\n",
    "\n",
    "End-to-end latency is crucial for assessing the email's delivery speed, which might reveal anomalies or delays in transit.\n"
   ]
  },
  {
   "cell_type": "code",
   "execution_count": 87,
   "metadata": {
    "collapsed": false,
    "jupyter": {
     "outputs_hidden": false
    },
    "pycharm": {
     "name": "#%%\n"
    }
   },
   "outputs": [
    {
     "ename": "IndexError",
     "evalue": "list index out of range",
     "output_type": "error",
     "traceback": [
      "\u001B[0;31m---------------------------------------------------------------------------\u001B[0m",
      "\u001B[0;31mIndexError\u001B[0m                                Traceback (most recent call last)",
      "Cell \u001B[0;32mIn[87], line 1\u001B[0m\n\u001B[0;32m----> 1\u001B[0m \u001B[43memails\u001B[49m\u001B[43m[\u001B[49m\u001B[38;5;241;43m1\u001B[39;49m\u001B[43m]\u001B[49m\u001B[43m[\u001B[49m\u001B[38;5;124;43m'\u001B[39;49m\u001B[38;5;124;43mheaders\u001B[39;49m\u001B[38;5;124;43m'\u001B[39;49m\u001B[43m]\u001B[49m\u001B[43m[\u001B[49m\u001B[38;5;241;43m71\u001B[39;49m\u001B[43m]\u001B[49m[\u001B[38;5;124m'\u001B[39m\u001B[38;5;124mheader\u001B[39m\u001B[38;5;124m'\u001B[39m], emails[\u001B[38;5;241m1\u001B[39m][\u001B[38;5;124m'\u001B[39m\u001B[38;5;124mheaders\u001B[39m\u001B[38;5;124m'\u001B[39m][\u001B[38;5;241m71\u001B[39m][\u001B[38;5;124m'\u001B[39m\u001B[38;5;124mvalue\u001B[39m\u001B[38;5;124m'\u001B[39m]\n",
      "\u001B[0;31mIndexError\u001B[0m: list index out of range"
     ]
    }
   ],
   "source": [
    "emails[1]['headers'][71]['header'], emails[1]['headers'][71]['value']"
   ]
  },
  {
   "cell_type": "markdown",
   "metadata": {
    "collapsed": false,
    "jupyter": {
     "outputs_hidden": false
    },
    "pycharm": {
     "name": "#%% md\n"
    }
   },
   "source": [
    "### X-Microsoft-Antispam-Mailbox-Delivery\n",
    "\n",
    "This header provides information about the email's delivery and its classification as spam or not, aiding in filtering and threat analysis.\n"
   ]
  },
  {
   "cell_type": "code",
   "execution_count": 88,
   "metadata": {
    "collapsed": false,
    "jupyter": {
     "outputs_hidden": false
    },
    "pycharm": {
     "name": "#%%\n"
    }
   },
   "outputs": [
    {
     "ename": "IndexError",
     "evalue": "list index out of range",
     "output_type": "error",
     "traceback": [
      "\u001B[0;31m---------------------------------------------------------------------------\u001B[0m",
      "\u001B[0;31mIndexError\u001B[0m                                Traceback (most recent call last)",
      "Cell \u001B[0;32mIn[88], line 1\u001B[0m\n\u001B[0;32m----> 1\u001B[0m \u001B[43memails\u001B[49m\u001B[43m[\u001B[49m\u001B[38;5;241;43m1\u001B[39;49m\u001B[43m]\u001B[49m\u001B[43m[\u001B[49m\u001B[38;5;124;43m'\u001B[39;49m\u001B[38;5;124;43mheaders\u001B[39;49m\u001B[38;5;124;43m'\u001B[39;49m\u001B[43m]\u001B[49m\u001B[43m[\u001B[49m\u001B[38;5;241;43m73\u001B[39;49m\u001B[43m]\u001B[49m[\u001B[38;5;124m'\u001B[39m\u001B[38;5;124mheader\u001B[39m\u001B[38;5;124m'\u001B[39m], emails[\u001B[38;5;241m1\u001B[39m][\u001B[38;5;124m'\u001B[39m\u001B[38;5;124mheaders\u001B[39m\u001B[38;5;124m'\u001B[39m][\u001B[38;5;241m73\u001B[39m][\u001B[38;5;124m'\u001B[39m\u001B[38;5;124mvalue\u001B[39m\u001B[38;5;124m'\u001B[39m]\n",
      "\u001B[0;31mIndexError\u001B[0m: list index out of range"
     ]
    }
   ],
   "source": [
    "emails[1]['headers'][73]['header'], emails[1]['headers'][73]['value']"
   ]
  },
  {
   "cell_type": "markdown",
   "metadata": {
    "collapsed": false,
    "jupyter": {
     "outputs_hidden": false
    },
    "pycharm": {
     "name": "#%% md\n"
    }
   },
   "source": [
    "### X-Message-Info and X-Message-Delivery\n",
    "\n",
    "These headers contain miscellaneous information about the email's handling, which can be valuable for tracking and understanding the email's journey."
   ]
  },
  {
   "cell_type": "code",
   "execution_count": 89,
   "metadata": {
    "collapsed": false,
    "jupyter": {
     "outputs_hidden": false
    },
    "pycharm": {
     "name": "#%%\n"
    }
   },
   "outputs": [
    {
     "ename": "IndexError",
     "evalue": "list index out of range",
     "output_type": "error",
     "traceback": [
      "\u001B[0;31m---------------------------------------------------------------------------\u001B[0m",
      "\u001B[0;31mIndexError\u001B[0m                                Traceback (most recent call last)",
      "Cell \u001B[0;32mIn[89], line 1\u001B[0m\n\u001B[0;32m----> 1\u001B[0m \u001B[43memails\u001B[49m\u001B[43m[\u001B[49m\u001B[38;5;241;43m1\u001B[39;49m\u001B[43m]\u001B[49m\u001B[43m[\u001B[49m\u001B[38;5;124;43m'\u001B[39;49m\u001B[38;5;124;43mheaders\u001B[39;49m\u001B[38;5;124;43m'\u001B[39;49m\u001B[43m]\u001B[49m\u001B[43m[\u001B[49m\u001B[38;5;241;43m75\u001B[39;49m\u001B[43m]\u001B[49m[\u001B[38;5;124m'\u001B[39m\u001B[38;5;124mheader\u001B[39m\u001B[38;5;124m'\u001B[39m], emails[\u001B[38;5;241m1\u001B[39m][\u001B[38;5;124m'\u001B[39m\u001B[38;5;124mheaders\u001B[39m\u001B[38;5;124m'\u001B[39m][\u001B[38;5;241m75\u001B[39m][\u001B[38;5;124m'\u001B[39m\u001B[38;5;124mvalue\u001B[39m\u001B[38;5;124m'\u001B[39m]\n",
      "\u001B[0;31mIndexError\u001B[0m: list index out of range"
     ]
    }
   ],
   "source": [
    "emails[1]['headers'][75]['header'], emails[1]['headers'][75]['value']"
   ]
  },
  {
   "cell_type": "markdown",
   "metadata": {
    "collapsed": false,
    "jupyter": {
     "outputs_hidden": false
    },
    "pycharm": {
     "name": "#%% md\n"
    }
   },
   "source": [
    "Defining a function to get information about an ip address for sender ip analysis"
   ]
  },
  {
   "cell_type": "code",
   "execution_count": 90,
   "metadata": {
    "collapsed": false,
    "jupyter": {
     "outputs_hidden": false
    },
    "pycharm": {
     "name": "#%%\n"
    }
   },
   "outputs": [],
   "source": [
    "import requests\n",
    "\n",
    "def get_ip_information(ip_address):\n",
    "    def get_ip_location():\n",
    "        # Make a GET request to ipinfo.io with the IP address\n",
    "        url = f\"https://ipinfo.io/{ip_address}/json\"\n",
    "        response = requests.get(url)\n",
    "\n",
    "        if response.status_code == 200:\n",
    "            data = response.json()\n",
    "            return data\n",
    "        else:\n",
    "            return None\n",
    "\n",
    "    location_info = get_ip_location()\n",
    "    # print(location_info)\n",
    "    if location_info:\n",
    "        # Print the location information\n",
    "        print(f\"IP Address: {location_info['ip']}\")\n",
    "        print(f\"Hostname: {location_info['hostname']}\")\n",
    "        print(f\"City: {location_info['city']}\")\n",
    "        # print(f\"Region: {location_info['region']}\")\n",
    "        print(f\"Country: {location_info['country']}\")\n",
    "        print(f\"Location: {location_info['loc']}\")\n",
    "        # print(f\"Organization: {location_info['org']}\")\n",
    "        print(f\"Timezone: {location_info['timezone']}\")\n",
    "    else:\n",
    "        print(\"Unable to retrieve location information for the IP address.\")\n"
   ]
  },
  {
   "cell_type": "markdown",
   "metadata": {
    "collapsed": false,
    "jupyter": {
     "outputs_hidden": false
    },
    "pycharm": {
     "name": "#%% md\n"
    }
   },
   "source": [
    "Analysing Sender IP Address for all emails"
   ]
  },
  {
   "cell_type": "code",
   "execution_count": 98,
   "metadata": {
    "collapsed": false,
    "jupyter": {
     "outputs_hidden": false
    },
    "pycharm": {
     "name": "#%%\n"
    }
   },
   "outputs": [
    {
     "name": "stdout",
     "output_type": "stream",
     "text": [
      "Subject of Email:  Sending from phone gmail app\n",
      "IP Address Information:\n",
      "IP Address: 209.85.218.48\n",
      "Hostname: mail-ej1-f48.google.com\n",
      "City: Oudeschip\n",
      "Country: NL\n",
      "Location: 53.4300,6.8264\n",
      "Timezone: Europe/Amsterdam\n",
      "\n",
      "Subject of Email:  Self mail from web outlook client\n",
      "IP Address Information:\n",
      "IP Address: 40.92.20.10\n",
      "Hostname: mail-bn8nam11olkn2010.outbound.protection.outlook.com\n",
      "City: Boydton\n",
      "Country: US\n",
      "Location: 36.6676,-78.3875\n",
      "Timezone: America/New_York\n",
      "\n",
      "Subject of Email:  Self test mail from gmail web client\n",
      "IP Address Information:\n",
      "IP Address: 209.85.167.178\n",
      "Hostname: mail-oi1-f178.google.com\n",
      "City: Tulsa\n",
      "Country: US\n",
      "Location: 36.1540,-95.9928\n",
      "Timezone: America/Chicago\n",
      "\n",
      "Subject of Email:  self test mail from mit gmail client\n",
      "IP Address Information:\n",
      "IP Address: 209.85.219.47\n",
      "Hostname: mail-qv1-f47.google.com\n",
      "City: Raleigh\n",
      "Country: US\n",
      "Location: 35.7721,-78.6386\n",
      "Timezone: America/New_York\n",
      "\n",
      "Subject of Email:  From movile outlook app\n",
      "IP Address Information:\n",
      "IP Address: 40.92.242.29\n",
      "Hostname: mail-ps2kor01olkn2029.outbound.protection.outlook.com\n",
      "City: Busan\n",
      "Country: KR\n",
      "Location: 35.1017,129.0300\n",
      "Timezone: Asia/Seoul\n",
      "\n",
      "Subject of Email:  Mail sent from phone\n",
      "IP Address Information:\n",
      "IP Address: 209.85.160.175\n",
      "Hostname: mail-qt1-f175.google.com\n",
      "City: Charlotte\n",
      "Country: US\n",
      "Location: 35.2271,-80.8431\n",
      "Timezone: America/New_York\n",
      "\n",
      "Subject of Email:  Mother's phone Gmail app\n",
      "IP Address Information:\n",
      "IP Address: 209.85.160.171\n",
      "Hostname: mail-qt1-f171.google.com\n",
      "City: Charlotte\n",
      "Country: US\n",
      "Location: 35.2271,-80.8431\n",
      "Timezone: America/New_York\n",
      "\n",
      "Subject of Email:  Sending from browser with vpn connection on\n",
      "IP Address Information:\n",
      "IP Address: 209.85.208.52\n",
      "Hostname: mail-ed1-f52.google.com\n",
      "City: Oudeschip\n",
      "Country: NL\n",
      "Location: 53.4300,6.8264\n",
      "Timezone: Europe/Amsterdam\n",
      "\n",
      "Subject of Email:  Sending from browser with vpn connection on\n",
      "IP Address Information:\n",
      "IP Address: 209.85.218.54\n",
      "Hostname: mail-ej1-f54.google.com\n",
      "City: Oudeschip\n",
      "Country: NL\n",
      "Location: 53.4300,6.8264\n",
      "Timezone: Europe/Amsterdam\n",
      "\n",
      "Subject of Email:  Sending from browser using mobile hotspot\n",
      "IP Address Information:\n",
      "IP Address: 209.85.208.41\n",
      "Hostname: mail-ed1-f41.google.com\n",
      "City: Oudeschip\n",
      "Country: NL\n",
      "Location: 53.4300,6.8264\n",
      "Timezone: Europe/Amsterdam\n",
      "\n",
      "Subject of Email:  [weekly] report for 2023-10-23 until 2023-10-29\n",
      "IP Address Information:\n",
      "IP Address: 23.253.182.7\n",
      "Hostname: mail-182-7.mailgun.info\n",
      "City: Chicago\n",
      "Country: US\n",
      "Location: 41.8500,-87.6500\n",
      "Timezone: America/Chicago\n",
      "\n",
      "Subject of Email:  Spell Casting, Ghostly Reveals, and a Halloween Party\n",
      "IP Address Information:\n",
      "IP Address: 147.253.215.159\n",
      "Hostname: mta-253-215-159.smtp-out.sparkpostmail.com\n",
      "City: Columbia\n",
      "Country: US\n",
      "Location: 39.1702,-76.8538\n",
      "Timezone: America/New_York\n",
      "\n",
      "Subject of Email:  [GitHub] Your Dependabot alerts for the week of Oct 24 - Oct 31\n",
      "IP Address Information:\n",
      "IP Address: 167.89.101.2\n",
      "Hostname: xtrwsrhn.outbound-mail.sendgrid.net\n",
      "City: Chicago\n",
      "Country: US\n",
      "Location: 41.8500,-87.6500\n",
      "Timezone: America/Chicago\n",
      "\n"
     ]
    }
   ],
   "source": [
    "for email in emails:\n",
    "    for header in email['headers']:\n",
    "        if header['header'] == 'X-Sender-IP':\n",
    "            print(\"Subject of Email: \", email['subject'])\n",
    "            print(\"IP Address Information:\")\n",
    "            get_ip_information(header['value'])\n",
    "\n",
    "            print()"
   ]
  },
  {
   "cell_type": "code",
   "execution_count": null,
   "metadata": {
    "collapsed": false,
    "jupyter": {
     "outputs_hidden": false
    },
    "pycharm": {
     "name": "#%%\n"
    }
   },
   "outputs": [],
   "source": []
  }
 ],
 "metadata": {
  "kernelspec": {
   "display_name": "Python 3 (ipykernel)",
   "language": "python",
   "name": "python3"
  },
  "language_info": {
   "codemirror_mode": {
    "name": "ipython",
    "version": 3
   },
   "file_extension": ".py",
   "mimetype": "text/x-python",
   "name": "python",
   "nbconvert_exporter": "python",
   "pygments_lexer": "ipython3",
   "version": "3.11.5"
  }
 },
 "nbformat": 4,
 "nbformat_minor": 4
}