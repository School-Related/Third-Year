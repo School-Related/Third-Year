{
 "cells": [
  {
   "cell_type": "markdown",
   "source": [
    "## Downloading Email Headers"
   ],
   "metadata": {
    "collapsed": false,
    "pycharm": {
     "name": "#%% md\n"
    }
   }
  },
  {
   "cell_type": "code",
   "execution_count": 1,
   "outputs": [],
   "source": [
    "username = \"krishnaraj.kpt@outlook.com\"\n",
    "password = \"BBQtJTSs8uQh57aw\"\n",
    "imap_server = \"outlook.office365.com\""
   ],
   "metadata": {
    "collapsed": false,
    "pycharm": {
     "name": "#%%\n"
    }
   }
  },
  {
   "cell_type": "code",
   "execution_count": 5,
   "outputs": [],
   "source": [
    "import imaplib\n",
    "import email\n",
    "from email.header import decode_header\n",
    "from email.parser import BytesParser\n",
    "import json"
   ],
   "metadata": {
    "collapsed": false,
    "pycharm": {
     "name": "#%%\n"
    }
   }
  },
  {
   "cell_type": "markdown",
   "source": [
    "Creating Imap Object"
   ],
   "metadata": {
    "collapsed": false,
    "pycharm": {
     "name": "#%% md\n"
    }
   }
  },
  {
   "cell_type": "code",
   "execution_count": 6,
   "outputs": [
    {
     "name": "stdout",
     "output_type": "stream",
     "text": [
      "The Total Number of Messages in your account are:  1017\n"
     ]
    }
   ],
   "source": [
    "# create an IMAP4 class with SSL\n",
    "imap = imaplib.IMAP4_SSL(imap_server)\n",
    "# authenticate\n",
    "imap.login(username, password)\n",
    "status, messages = imap.select(\"INBOX\")\n",
    "\n",
    "# number of top emails to fetch\n",
    "N = 15\n",
    "\n",
    "# total number of emails\n",
    "messages = int(messages[0])\n",
    "print(\"The Total Number of Messages in your account are: \", messages)"
   ],
   "metadata": {
    "collapsed": false,
    "pycharm": {
     "name": "#%%\n"
    }
   }
  },
  {
   "cell_type": "markdown",
   "source": [
    "Downloading Headers"
   ],
   "metadata": {
    "collapsed": false,
    "pycharm": {
     "name": "#%% md\n"
    }
   }
  },
  {
   "cell_type": "code",
   "execution_count": 7,
   "outputs": [],
   "source": [
    "# create a list to store the emails\n",
    "emails = []\n",
    "\n",
    "# fetch the top N email headers\n",
    "for i in range(messages - N, messages + 1):\n",
    "    # fetch the email header\n",
    "    result, data = imap.fetch(str(i + 1), \"(RFC822.HEADER)\")\n",
    "    if result == \"OK\":\n",
    "        # parse the email header\n",
    "        email_parser = BytesParser()\n",
    "        email_header = email_parser.parsebytes(data[0][1])\n",
    "\n",
    "        # create a dictionary to store the email header\n",
    "        email = {\n",
    "            \"subject\": email_header[\"Subject\"],\n",
    "            \"headers\": [],\n",
    "        }\n",
    "\n",
    "        # add the email headers to the dictionary\n",
    "        for header in email_header.items():\n",
    "            email[\"headers\"].append({\n",
    "                \"header\": header[0],\n",
    "                \"value\": header[1],\n",
    "            })\n",
    "\n",
    "        # add the email to the list of emails\n",
    "        emails.append(email)\n",
    "\n",
    "# close the IMAP connection\n",
    "imap.close()\n",
    "\n",
    "# write the emails to a JSON file\n",
    "with open(\"emails.json\", \"w\") as f:\n",
    "    json.dump(emails, f, indent=4)"
   ],
   "metadata": {
    "collapsed": false,
    "pycharm": {
     "name": "#%%\n"
    }
   }
  },
  {
   "cell_type": "markdown",
   "source": [
    "Converting the json file to a python dictionary"
   ],
   "metadata": {
    "collapsed": false,
    "pycharm": {
     "name": "#%% md\n"
    }
   }
  },
  {
   "cell_type": "code",
   "execution_count": 23,
   "outputs": [],
   "source": [
    "import json\n",
    "with open(\"emails.json\", \"r\") as f:\n",
    "    emails = json.load(f)"
   ],
   "metadata": {
    "collapsed": false,
    "pycharm": {
     "name": "#%%\n"
    }
   }
  },
  {
   "cell_type": "markdown",
   "source": [
    "Looking at Header keys of one of the emails"
   ],
   "metadata": {
    "collapsed": false,
    "pycharm": {
     "name": "#%% md\n"
    }
   }
  },
  {
   "cell_type": "code",
   "execution_count": 29,
   "outputs": [],
   "source": [
    "header_names = [i['header'] for i in emails[1][\"headers\"]]"
   ],
   "metadata": {
    "collapsed": false,
    "pycharm": {
     "name": "#%%\n"
    }
   }
  },
  {
   "cell_type": "markdown",
   "source": [
    "Focusing on 8 Test Emails"
   ],
   "metadata": {
    "collapsed": false,
    "pycharm": {
     "name": "#%% md\n"
    }
   }
  },
  {
   "cell_type": "code",
   "execution_count": 24,
   "outputs": [],
   "source": [
    "emails = emails[2:10]"
   ],
   "metadata": {
    "collapsed": false,
    "pycharm": {
     "name": "#%%\n"
    }
   }
  },
  {
   "cell_type": "markdown",
   "source": [
    "Looking at their Subjects"
   ],
   "metadata": {
    "collapsed": false,
    "pycharm": {
     "name": "#%% md\n"
    }
   }
  },
  {
   "cell_type": "code",
   "execution_count": 26,
   "outputs": [
    {
     "data": {
      "text/plain": "['Sending from phone gmail app',\n 'Self mail from web outlook client',\n 'Self test mail from gmail web client',\n 'self test mail from mit gmail client',\n 'From movile outlook app',\n 'Mail sent from phone',\n \"Mother's phone Gmail app\",\n 'Sending from browser with vpn connection on']"
     },
     "execution_count": 26,
     "metadata": {},
     "output_type": "execute_result"
    }
   ],
   "source": [
    "[i['subject'] for i in emails]"
   ],
   "metadata": {
    "collapsed": false,
    "pycharm": {
     "name": "#%%\n"
    }
   }
  },
  {
   "cell_type": "markdown",
   "source": [
    "Analyse each header and find out what it means"
   ],
   "metadata": {
    "collapsed": false,
    "pycharm": {
     "name": "#%% md\n"
    }
   }
  },
  {
   "cell_type": "code",
   "execution_count": 59,
   "outputs": [
    {
     "name": "stdout",
     "output_type": "stream",
     "text": [
      "Total number of headers in provided email:  77\n"
     ]
    }
   ],
   "source": [
    "print(\"Total number of headers in provided email: \", len(header_names))"
   ],
   "metadata": {
    "collapsed": false,
    "pycharm": {
     "name": "#%%\n"
    }
   }
  },
  {
   "cell_type": "code",
   "execution_count": 45,
   "outputs": [
    {
     "name": "stdout",
     "output_type": "stream",
     "text": [
      "0 MIME-Version\n",
      "1 Received\n",
      "2 ARC-Seal\n",
      "3 ARC-Message-Signature\n",
      "4 ARC-Authentication-Results\n",
      "5 Received\n",
      "6 Received\n",
      "7 Authentication-Results\n",
      "8 Received-SPF\n",
      "9 Received\n",
      "10 X-IncomingTopHeaderMarker\n",
      "11 ARC-Seal\n",
      "12 ARC-Message-Signature\n",
      "13 ARC-Authentication-Results\n",
      "14 DKIM-Signature\n",
      "15 Received\n",
      "16 Received\n",
      "17 From\n",
      "18 To\n",
      "19 Subject\n",
      "20 Thread-Topic\n",
      "21 Thread-Index\n",
      "22 Date\n",
      "23 Message-ID\n",
      "24 Accept-Language\n",
      "25 Content-Language\n",
      "26 X-MS-Has-Attach\n",
      "27 X-MS-TNEF-Correlator\n",
      "28 msip_labels\n",
      "29 x-tmn\n",
      "30 x-ms-traffictypediagnostic\n",
      "31 X-MS-Office365-Filtering-Correlation-Id\n",
      "32 X-Microsoft-Antispam-Untrusted\n",
      "33 X-Microsoft-Antispam-Message-Info-Original\n",
      "34 X-MS-Exchange-AntiSpam-MessageData-Original-ChunkCount\n",
      "35 X-MS-Exchange-AntiSpam-MessageData-Original-0\n",
      "36 Content-Type\n",
      "37 X-MS-Exchange-Transport-CrossTenantHeadersStamped\n",
      "38 X-IncomingHeaderCount\n",
      "39 Return-Path\n",
      "40 X-MS-Exchange-Organization-ExpirationStartTime\n",
      "41 X-MS-Exchange-Organization-ExpirationStartTimeReason\n",
      "42 X-MS-Exchange-Organization-ExpirationInterval\n",
      "43 X-MS-Exchange-Organization-ExpirationIntervalReason\n",
      "44 X-MS-Exchange-Organization-Network-Message-Id\n",
      "45 X-EOPAttributedMessage\n",
      "46 X-EOPTenantAttributedMessage\n",
      "47 X-MS-Exchange-Organization-MessageDirectionality\n",
      "48 X-MS-Exchange-Transport-CrossTenantHeadersStripped\n",
      "49 X-MS-Exchange-Transport-CrossTenantHeadersPromoted\n",
      "50 X-MS-PublicTrafficType\n",
      "51 X-MS-Exchange-Organization-AuthSource\n",
      "52 X-MS-Exchange-Organization-AuthAs\n",
      "53 X-MS-UserLastLogonTime\n",
      "54 X-MS-Office365-Filtering-Correlation-Id-Prvs\n",
      "55 X-MS-Exchange-EOPDirect\n",
      "56 X-Sender-IP\n",
      "57 X-SID-PRA\n",
      "58 X-SID-Result\n",
      "59 X-MS-Exchange-Organization-PCL\n",
      "60 X-MS-Exchange-Organization-SCL\n",
      "61 X-Microsoft-Antispam\n",
      "62 X-MS-Exchange-CrossTenant-OriginalArrivalTime\n",
      "63 X-MS-Exchange-CrossTenant-Network-Message-Id\n",
      "64 X-MS-Exchange-CrossTenant-Id\n",
      "65 X-MS-Exchange-CrossTenant-RMS-PersistedConsumerOrg\n",
      "66 X-MS-Exchange-CrossTenant-rms-persistedconsumerorg\n",
      "67 X-MS-Exchange-CrossTenant-AuthSource\n",
      "68 X-MS-Exchange-CrossTenant-AuthAs\n",
      "69 X-MS-Exchange-CrossTenant-FromEntityHeader\n",
      "70 X-MS-Exchange-Transport-CrossTenantHeadersStamped\n",
      "71 X-MS-Exchange-Transport-EndToEndLatency\n",
      "72 X-MS-Exchange-Processed-By-BccFoldering\n",
      "73 X-Microsoft-Antispam-Mailbox-Delivery\n",
      "74 X-Message-Info\n",
      "75 X-Message-Delivery\n",
      "76 X-Microsoft-Antispam-Message-Info\n"
     ]
    }
   ],
   "source": [
    "# print header names with their index\n",
    "for index, header in enumerate(header_names):\n",
    "    print(index, header)"
   ],
   "metadata": {
    "collapsed": false,
    "pycharm": {
     "name": "#%%\n"
    }
   }
  },
  {
   "cell_type": "markdown",
   "source": [
    "### MIME-Version\n",
    "\n",
    "MIME-Version indicates the email's message format. It's important in investigations to understand how the message is structured and if it includes multimedia or attachments."
   ],
   "metadata": {
    "collapsed": false,
    "pycharm": {
     "name": "#%% md\n"
    }
   }
  },
  {
   "cell_type": "code",
   "execution_count": 38,
   "outputs": [
    {
     "data": {
      "text/plain": "('MIME-Version', '1.0')"
     },
     "execution_count": 38,
     "metadata": {},
     "output_type": "execute_result"
    }
   ],
   "source": [
    "emails[1]['headers'][0]['header'], emails[1]['headers'][0]['value']"
   ],
   "metadata": {
    "collapsed": false,
    "pycharm": {
     "name": "#%%\n"
    }
   }
  },
  {
   "cell_type": "markdown",
   "source": [
    "### Received\n",
    "\n",
    "Received headers track the path of the email through various servers. This is crucial for tracing the email's journey, identifying potential anomalies, or investigating its source.\n"
   ],
   "metadata": {
    "collapsed": false,
    "pycharm": {
     "name": "#%% md\n"
    }
   }
  },
  {
   "cell_type": "code",
   "execution_count": 40,
   "outputs": [
    {
     "name": "stdout",
     "output_type": "stream",
     "text": [
      "Received from SJ0PR17MB4837.namprd17.prod.outlook.com (2603:10b6:a03:37a::10)\r\n",
      " by DS7PR17MB6730.namprd17.prod.outlook.com with HTTPS; Sun, 29 Oct 2023\r\n",
      " 17:32:29 +0000\n"
     ]
    }
   ],
   "source": [
    "emails[1]['headers'][1]['header'], emails[1]['headers'][1]['value']"
   ],
   "metadata": {
    "collapsed": false,
    "pycharm": {
     "name": "#%%\n"
    }
   }
  },
  {
   "cell_type": "markdown",
   "source": [
    "### ARC-Seal\n",
    "\n",
    "ARC (Authenticated Received Chain) headers help verify the authenticity of email forwarding. ARC-Seal ensures the integrity of email headers, reducing the risk of spoofing.\n"
   ],
   "metadata": {
    "collapsed": false,
    "pycharm": {
     "name": "#%% md\n"
    }
   }
  },
  {
   "cell_type": "code",
   "execution_count": 41,
   "outputs": [
    {
     "data": {
      "text/plain": "('ARC-Seal',\n 'i=2; a=rsa-sha256; s=arcselector9901; d=microsoft.com; cv=pass;\\r\\n b=UERZv4BlU4weLVUXdoohvbjGYpYf4pb9pFtOwayMK+mtwTbjMhWrqskYHiEhqgH1rrxhnvYgrK7YkvSkKXiEypdAOak0f4KcLaHNb/KEBpCVvQoKhVUX2zWzFMxVLsIRkMgoltrKRs0JShcFwrbt6XCvxCZUTbsGQs/hFpaN0sYlFys1Qu41etiVDrmS8ZYpq4ZnHuXxdBzxW6A8Aql06f5sr4CF2fSeAIjAFu5JB5/tTHlu9wFIYa49rmvL4i2S8QLHI8IdHsvPpz0oNrK0BVzf8bFat2iF7qnIX2J1lkXo21nWrGEioqJjPP6uusrYJBc5R+SatB5i3rmSYpqn0w==')"
     },
     "execution_count": 41,
     "metadata": {},
     "output_type": "execute_result"
    }
   ],
   "source": [
    "emails[1]['headers'][2]['header'], emails[1]['headers'][2]['value']"
   ],
   "metadata": {
    "collapsed": false,
    "pycharm": {
     "name": "#%%\n"
    }
   }
  },
  {
   "cell_type": "markdown",
   "source": [
    "### ARC-Message-Signature\n",
    "\n",
    "ARC-Message-Signature is part of ARC headers and provides cryptographic assurance of email header integrity, aiding in detecting email tampering.\n"
   ],
   "metadata": {
    "collapsed": false,
    "pycharm": {
     "name": "#%% md\n"
    }
   }
  },
  {
   "cell_type": "code",
   "execution_count": 42,
   "outputs": [
    {
     "data": {
      "text/plain": "('ARC-Message-Signature',\n 'i=2; a=rsa-sha256; c=relaxed/relaxed; d=microsoft.com;\\r\\n s=arcselector9901;\\r\\n h=From:Date:Subject:Message-ID:Content-Type:MIME-Version:X-MS-Exchange-AntiSpam-MessageData-ChunkCount:X-MS-Exchange-AntiSpam-MessageData-0:X-MS-Exchange-AntiSpam-MessageData-1;\\r\\n bh=6+cClN22oIrc2YH61nPV02IScRJCb64tf03+C6e0M4c=;\\r\\n b=eM0/ekjq2KehxMnRBghHFpHhgVKFTyGOnc/ccplTJ7KonRY/xFz58qfR9ixNv6igINRBz+QQaWFKprBg57YvrEJRPljNUKG0WmKJXKF1Czif79KmQpGcyxrjMBkNfga0hZWdPpPgOAVbNEG0z2uYUQ4zIqpiqq0wJ69EUaestV84DGs3O14jqflXjihcktRdZBX6zL/WD1gnOdr6ParkWfeJUaCV1BjMcpoUFXMnCZwlB2ST1aNgUdXHrqvxty4c2Q0/1uDWWr9Wu/Vx5h/kN9LqqjvwNmvzTLuRE1oPLaIch8T2dBnIf6leWeKENffAjFK+Kba43a68mbAnbxlvsg==')"
     },
     "execution_count": 42,
     "metadata": {},
     "output_type": "execute_result"
    }
   ],
   "source": [
    "emails[1]['headers'][3]['header'], emails[1]['headers'][3]['value']"
   ],
   "metadata": {
    "collapsed": false,
    "pycharm": {
     "name": "#%%\n"
    }
   }
  },
  {
   "cell_type": "markdown",
   "source": [
    "### ARC-Authentication-Results\n",
    "\n",
    "These headers indicate the email's authentication status. Investigators can use this to assess the email's legitimacy and potential for phishing.\n"
   ],
   "metadata": {
    "collapsed": false,
    "pycharm": {
     "name": "#%% md\n"
    }
   }
  },
  {
   "cell_type": "code",
   "execution_count": 43,
   "outputs": [
    {
     "data": {
      "text/plain": "('ARC-Authentication-Results',\n 'i=2; mx.microsoft.com 1; spf=pass (sender ip is\\r\\n 40.92.20.10) smtp.rcpttodomain=outlook.com smtp.mailfrom=outlook.com;\\r\\n dmarc=pass (p=none sp=quarantine pct=100) action=none\\r\\n header.from=outlook.com; dkim=pass (signature was verified)\\r\\n header.d=outlook.com; arc=pass (0 oda=0 ltdi=1)')"
     },
     "execution_count": 43,
     "metadata": {},
     "output_type": "execute_result"
    }
   ],
   "source": [
    "emails[1]['headers'][4]['header'], emails[1]['headers'][4]['value']"
   ],
   "metadata": {
    "collapsed": false,
    "pycharm": {
     "name": "#%%\n"
    }
   }
  },
  {
   "cell_type": "markdown",
   "source": [
    "### DKIM-Signature\n",
    "\n",
    "DKIM (DomainKeys Identified Mail) verifies that the email content hasn't been altered in transit. It's crucial for email integrity checks and source verification.\n"
   ],
   "metadata": {
    "collapsed": false,
    "pycharm": {
     "name": "#%% md\n"
    }
   }
  },
  {
   "cell_type": "code",
   "execution_count": 46,
   "outputs": [
    {
     "data": {
      "text/plain": "('DKIM-Signature',\n 'v=1; a=rsa-sha256; c=relaxed/relaxed; d=outlook.com;\\r\\n s=selector1;\\r\\n h=From:Date:Subject:Message-ID:Content-Type:MIME-Version:X-MS-Exchange-SenderADCheck;\\r\\n bh=6+cClN22oIrc2YH61nPV02IScRJCb64tf03+C6e0M4c=;\\r\\n b=aZNfYlN+/lbQqIqDR1Cblhb9/x28HgNh+pAywoD+43Be+F/5cGPhWuKGP6InowbprEEutN/A5RLJ20qRurKixCRrzUMNtv/QnJXQFkFCvHBOWiZyEANGeA5iUHQ38WwdNG0IsLWgyb4s82CjKshEyYgkgfPcpP854CN9IsqJ1EUA3TIayHNbGwRilfGqwSFICBp4EODwvlXl+WWU4ihYg7HwlSaKgC/gn2WSnmIo3G/L3YbZkI9X41B3ttxHTCeCTjAktqE29Ww13fLEgMB4F+gD8xJSmNQlYvSAcM6unCowj5AjXRLPHJ5aCseQL0Mnq5aFVufoGrR9yFUn45RoYA==')"
     },
     "execution_count": 46,
     "metadata": {},
     "output_type": "execute_result"
    }
   ],
   "source": [
    "emails[1]['headers'][14]['header'], emails[1]['headers'][14]['value']"
   ],
   "metadata": {
    "collapsed": false,
    "pycharm": {
     "name": "#%%\n"
    }
   }
  },
  {
   "cell_type": "markdown",
   "source": [
    "### From\n",
    "\n",
    "The \"From\" header shows the sender's email address. It's essential for identifying the sender, although it can be spoofed.\n"
   ],
   "metadata": {
    "collapsed": false,
    "pycharm": {
     "name": "#%% md\n"
    }
   }
  },
  {
   "cell_type": "code",
   "execution_count": 47,
   "outputs": [
    {
     "data": {
      "text/plain": "('From', 'Krishnaraj Thadesar <Krishnaraj.kpt@outlook.com>')"
     },
     "execution_count": 47,
     "metadata": {},
     "output_type": "execute_result"
    }
   ],
   "source": [
    "emails[1]['headers'][17]['header'], emails[1]['headers'][17]['value']"
   ],
   "metadata": {
    "collapsed": false,
    "pycharm": {
     "name": "#%%\n"
    }
   }
  },
  {
   "cell_type": "markdown",
   "source": [
    "### To\n",
    "\n",
    "The \"To\" header reveals the email's recipient, which is significant for understanding the email's target and potential threat actors.\n"
   ],
   "metadata": {
    "collapsed": false,
    "pycharm": {
     "name": "#%% md\n"
    }
   }
  },
  {
   "cell_type": "code",
   "execution_count": 48,
   "outputs": [
    {
     "data": {
      "text/plain": "('To', 'Krishnaraj Thadesar <krishnaraj.kpt@outlook.com>')"
     },
     "execution_count": 48,
     "metadata": {},
     "output_type": "execute_result"
    }
   ],
   "source": [
    "emails[1]['headers'][18]['header'], emails[1]['headers'][18]['value']"
   ],
   "metadata": {
    "collapsed": false,
    "pycharm": {
     "name": "#%%\n"
    }
   }
  },
  {
   "cell_type": "markdown",
   "source": [
    "### Subject\n",
    "\n",
    "The subject line provides insight into the email's content, which is crucial for assessing the email's purpose and relevance to an investigation.\n"
   ],
   "metadata": {
    "collapsed": false,
    "pycharm": {
     "name": "#%% md\n"
    }
   }
  },
  {
   "cell_type": "code",
   "execution_count": 49,
   "outputs": [
    {
     "data": {
      "text/plain": "('Subject', 'Self mail from web outlook client')"
     },
     "execution_count": 49,
     "metadata": {},
     "output_type": "execute_result"
    }
   ],
   "source": [
    "emails[1]['headers'][19]['header'], emails[1]['headers'][19]['value']"
   ],
   "metadata": {
    "collapsed": false,
    "pycharm": {
     "name": "#%%\n"
    }
   }
  },
  {
   "cell_type": "markdown",
   "source": [
    "### Date\n",
    "\n",
    "The date header shows when the email was sent. It's valuable for establishing timelines and correlations with other events.\n"
   ],
   "metadata": {
    "collapsed": false,
    "pycharm": {
     "name": "#%% md\n"
    }
   }
  },
  {
   "cell_type": "code",
   "execution_count": 50,
   "outputs": [
    {
     "data": {
      "text/plain": "('Date', 'Sun, 29 Oct 2023 17:32:25 +0000')"
     },
     "execution_count": 50,
     "metadata": {},
     "output_type": "execute_result"
    }
   ],
   "source": [
    "emails[1]['headers'][22]['header'], emails[1]['headers'][22]['value']"
   ],
   "metadata": {
    "collapsed": false,
    "pycharm": {
     "name": "#%%\n"
    }
   }
  },
  {
   "cell_type": "markdown",
   "source": [
    "### Message-ID\n",
    "\n",
    "The Message-ID is unique to each email and can be used for tracking and associating related messages in an investigation.\n"
   ],
   "metadata": {
    "collapsed": false,
    "pycharm": {
     "name": "#%% md\n"
    }
   }
  },
  {
   "cell_type": "code",
   "execution_count": 51,
   "outputs": [
    {
     "data": {
      "text/plain": "('Message-ID',\n '\\r\\n <DS7PR17MB6730EE7BE9EA14814BB3AFE980A2A@DS7PR17MB6730.namprd17.prod.outlook.com>')"
     },
     "execution_count": 51,
     "metadata": {},
     "output_type": "execute_result"
    }
   ],
   "source": [
    "emails[1]['headers'][23]['header'], emails[1]['headers'][23]['value']"
   ],
   "metadata": {
    "collapsed": false,
    "pycharm": {
     "name": "#%%\n"
    }
   }
  },
  {
   "cell_type": "markdown",
   "source": [
    "### Content-Type\n",
    "\n",
    "Content-Type specifies the format of the email content. It helps investigators interpret the email's structure and potential for malicious attachments.\n"
   ],
   "metadata": {
    "collapsed": false,
    "pycharm": {
     "name": "#%% md\n"
    }
   }
  },
  {
   "cell_type": "code",
   "execution_count": 52,
   "outputs": [
    {
     "data": {
      "text/plain": "('Content-Type',\n 'multipart/alternative;\\r\\n\\tboundary=\"_000_DS7PR17MB6730EE7BE9EA14814BB3AFE980A2ADS7PR17MB6730namp_\"')"
     },
     "execution_count": 52,
     "metadata": {},
     "output_type": "execute_result"
    }
   ],
   "source": [
    "emails[1]['headers'][36]['header'], emails[1]['headers'][36]['value']"
   ],
   "metadata": {
    "collapsed": false,
    "pycharm": {
     "name": "#%%\n"
    }
   }
  },
  {
   "cell_type": "markdown",
   "source": [
    "### Return-Path\n",
    "\n",
    "Return-Path indicates where undeliverable emails should be sent. It can assist in identifying email redirection or bouncing patterns.\n"
   ],
   "metadata": {
    "collapsed": false,
    "pycharm": {
     "name": "#%% md\n"
    }
   }
  },
  {
   "cell_type": "code",
   "execution_count": 54,
   "outputs": [
    {
     "data": {
      "text/plain": "('Return-Path', 'krishnaraj.kpt@outlook.com')"
     },
     "execution_count": 54,
     "metadata": {},
     "output_type": "execute_result"
    }
   ],
   "source": [
    "emails[1]['headers'][39]['header'], emails[1]['headers'][39]['value']"
   ],
   "metadata": {
    "collapsed": false,
    "pycharm": {
     "name": "#%%\n"
    }
   }
  },
  {
   "cell_type": "markdown",
   "source": [
    "### X-Sender-IP\n",
    "\n",
    "This header contains the IP address of the sender, which is essential for tracking the origin of the email and potential geolocation.\n"
   ],
   "metadata": {
    "collapsed": false,
    "pycharm": {
     "name": "#%% md\n"
    }
   }
  },
  {
   "cell_type": "code",
   "execution_count": 55,
   "outputs": [
    {
     "data": {
      "text/plain": "('X-Sender-IP', '40.92.20.10')"
     },
     "execution_count": 55,
     "metadata": {},
     "output_type": "execute_result"
    }
   ],
   "source": [
    "emails[1]['headers'][56]['header'], emails[1]['headers'][56]['value']"
   ],
   "metadata": {
    "collapsed": false,
    "pycharm": {
     "name": "#%%\n"
    }
   }
  },
  {
   "cell_type": "markdown",
   "source": [
    "### X-MS-Exchange-Transport-EndToEndLatency\n",
    "\n",
    "End-to-end latency is crucial for assessing the email's delivery speed, which might reveal anomalies or delays in transit.\n"
   ],
   "metadata": {
    "collapsed": false,
    "pycharm": {
     "name": "#%% md\n"
    }
   }
  },
  {
   "cell_type": "code",
   "execution_count": 56,
   "outputs": [
    {
     "data": {
      "text/plain": "('X-MS-Exchange-Transport-EndToEndLatency', '00:00:02.4306131')"
     },
     "execution_count": 56,
     "metadata": {},
     "output_type": "execute_result"
    }
   ],
   "source": [
    "emails[1]['headers'][71]['header'], emails[1]['headers'][71]['value']"
   ],
   "metadata": {
    "collapsed": false,
    "pycharm": {
     "name": "#%%\n"
    }
   }
  },
  {
   "cell_type": "markdown",
   "source": [
    "### X-Microsoft-Antispam-Mailbox-Delivery\n",
    "\n",
    "This header provides information about the email's delivery and its classification as spam or not, aiding in filtering and threat analysis.\n"
   ],
   "metadata": {
    "collapsed": false,
    "pycharm": {
     "name": "#%% md\n"
    }
   }
  },
  {
   "cell_type": "code",
   "execution_count": 57,
   "outputs": [
    {
     "data": {
      "text/plain": "('X-Microsoft-Antispam-Mailbox-Delivery',\n '\\r\\n\\tucf:0;jmr:0;ex:0;auth:1;dest:I;OFR:SpamFilterPass;ENG:(5062000305)(920221119095)(90000117)(920221120095)(90013020)(91025020)(91040095)(9050020)(9065024)(9100341)(1000006)(944500132)(2008001134)(4810010)(4910033)(9920006)(9510006)(10105021)(9320005)(9230038)(120001);')"
     },
     "execution_count": 57,
     "metadata": {},
     "output_type": "execute_result"
    }
   ],
   "source": [
    "emails[1]['headers'][73]['header'], emails[1]['headers'][73]['value']"
   ],
   "metadata": {
    "collapsed": false,
    "pycharm": {
     "name": "#%%\n"
    }
   }
  },
  {
   "cell_type": "markdown",
   "source": [
    "### X-Message-Info and X-Message-Delivery\n",
    "\n",
    "These headers contain miscellaneous information about the email's handling, which can be valuable for tracking and understanding the email's journey."
   ],
   "metadata": {
    "collapsed": false,
    "pycharm": {
     "name": "#%% md\n"
    }
   }
  },
  {
   "cell_type": "code",
   "execution_count": 58,
   "outputs": [
    {
     "data": {
      "text/plain": "('X-Message-Delivery', 'Vj0xLjE7dXM9MDtsPTA7YT0xO0Q9MTtHRD0xO1NDTD0tMQ==')"
     },
     "execution_count": 58,
     "metadata": {},
     "output_type": "execute_result"
    }
   ],
   "source": [
    "emails[1]['headers'][75]['header'], emails[1]['headers'][75]['value']"
   ],
   "metadata": {
    "collapsed": false,
    "pycharm": {
     "name": "#%%\n"
    }
   }
  },
  {
   "cell_type": "markdown",
   "source": [
    "Defining a function to get information about an ip address for sender ip analysis"
   ],
   "metadata": {
    "collapsed": false,
    "pycharm": {
     "name": "#%% md\n"
    }
   }
  },
  {
   "cell_type": "code",
   "execution_count": 65,
   "outputs": [],
   "source": [
    "import requests\n",
    "\n",
    "def get_ip_information(ip_address):\n",
    "    def get_ip_location():\n",
    "        # Make a GET request to ipinfo.io with the IP address\n",
    "        url = f\"https://ipinfo.io/{ip_address}/json\"\n",
    "        response = requests.get(url)\n",
    "\n",
    "        if response.status_code == 200:\n",
    "            data = response.json()\n",
    "            return data\n",
    "        else:\n",
    "            return None\n",
    "\n",
    "    location_info = get_ip_location()\n",
    "    # print(location_info)\n",
    "    if location_info:\n",
    "        # Print the location information\n",
    "        print(f\"IP Address: {location_info['ip']}\")\n",
    "        print(f\"Hostname: {location_info['hostname']}\")\n",
    "        print(f\"City: {location_info['city']}\")\n",
    "        # print(f\"Region: {location_info['region']}\")\n",
    "        print(f\"Country: {location_info['country']}\")\n",
    "        print(f\"Location: {location_info['loc']}\")\n",
    "        # print(f\"Organization: {location_info['org']}\")\n",
    "        print(f\"Timezone: {location_info['timezone']}\")\n",
    "    else:\n",
    "        print(\"Unable to retrieve location information for the IP address.\")\n"
   ],
   "metadata": {
    "collapsed": false,
    "pycharm": {
     "name": "#%%\n"
    }
   }
  },
  {
   "cell_type": "markdown",
   "source": [
    "Analysing Sender IP Address for all emails"
   ],
   "metadata": {
    "collapsed": false,
    "pycharm": {
     "name": "#%% md\n"
    }
   }
  },
  {
   "cell_type": "code",
   "execution_count": 66,
   "outputs": [
    {
     "name": "stdout",
     "output_type": "stream",
     "text": [
      "Subject of Email:  Sending from phone gmail app\n",
      "IP Address Information:\n",
      "IP Address: 209.85.218.48\n",
      "Hostname: mail-ej1-f48.google.com\n",
      "City: Oudeschip\n",
      "Country: NL\n",
      "Location: 53.4300,6.8264\n",
      "Timezone: Europe/Amsterdam\n",
      "\n",
      "Subject of Email:  Self mail from web outlook client\n",
      "IP Address Information:\n",
      "IP Address: 40.92.20.10\n",
      "Hostname: mail-bn8nam11olkn2010.outbound.protection.outlook.com\n",
      "City: Boydton\n",
      "Country: US\n",
      "Location: 36.6676,-78.3875\n",
      "Timezone: America/New_York\n",
      "\n",
      "Subject of Email:  Self test mail from gmail web client\n",
      "IP Address Information:\n",
      "IP Address: 209.85.167.178\n",
      "Hostname: mail-oi1-f178.google.com\n",
      "City: Tulsa\n",
      "Country: US\n",
      "Location: 36.1540,-95.9928\n",
      "Timezone: America/Chicago\n",
      "\n",
      "Subject of Email:  self test mail from mit gmail client\n",
      "IP Address Information:\n",
      "IP Address: 209.85.219.47\n",
      "Hostname: mail-qv1-f47.google.com\n",
      "City: Raleigh\n",
      "Country: US\n",
      "Location: 35.7721,-78.6386\n",
      "Timezone: America/New_York\n",
      "\n",
      "Subject of Email:  From movile outlook app\n",
      "IP Address Information:\n",
      "IP Address: 40.92.242.29\n",
      "Hostname: mail-ps2kor01olkn2029.outbound.protection.outlook.com\n",
      "City: Busan\n",
      "Country: KR\n",
      "Location: 35.1017,129.0300\n",
      "Timezone: Asia/Seoul\n",
      "\n",
      "Subject of Email:  Mail sent from phone\n",
      "IP Address Information:\n",
      "IP Address: 209.85.160.175\n",
      "Hostname: mail-qt1-f175.google.com\n",
      "City: Charlotte\n",
      "Country: US\n",
      "Location: 35.2271,-80.8431\n",
      "Timezone: America/New_York\n",
      "\n",
      "Subject of Email:  Mother's phone Gmail app\n",
      "IP Address Information:\n",
      "IP Address: 209.85.160.171\n",
      "Hostname: mail-qt1-f171.google.com\n",
      "City: Charlotte\n",
      "Country: US\n",
      "Location: 35.2271,-80.8431\n",
      "Timezone: America/New_York\n",
      "\n",
      "Subject of Email:  Sending from browser with vpn connection on\n",
      "IP Address Information:\n",
      "IP Address: 209.85.208.52\n",
      "Hostname: mail-ed1-f52.google.com\n",
      "City: Oudeschip\n",
      "Country: NL\n",
      "Location: 53.4300,6.8264\n",
      "Timezone: Europe/Amsterdam\n",
      "\n"
     ]
    }
   ],
   "source": [
    "for email in emails:\n",
    "    for header in email['headers']:\n",
    "        if header['header'] == 'X-Sender-IP':\n",
    "            print(\"Subject of Email: \", email['subject'])\n",
    "            print(\"IP Address Information:\")\n",
    "            get_ip_information(header['value'])\n",
    "\n",
    "            print()"
   ],
   "metadata": {
    "collapsed": false,
    "pycharm": {
     "name": "#%%\n"
    }
   }
  },
  {
   "cell_type": "code",
   "execution_count": null,
   "outputs": [],
   "source": [],
   "metadata": {
    "collapsed": false,
    "pycharm": {
     "name": "#%%\n"
    }
   }
  }
 ],
 "metadata": {
  "kernelspec": {
   "display_name": "Python 3",
   "language": "python",
   "name": "python3"
  },
  "language_info": {
   "codemirror_mode": {
    "name": "ipython",
    "version": 2
   },
   "file_extension": ".py",
   "mimetype": "text/x-python",
   "name": "python",
   "nbconvert_exporter": "python",
   "pygments_lexer": "ipython2",
   "version": "2.7.6"
  }
 },
 "nbformat": 4,
 "nbformat_minor": 0
}