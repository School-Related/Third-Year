{
 "cells": [
  {
   "cell_type": "code",
   "execution_count": null,
   "metadata": {
    "pycharm": {
     "name": "#%%\n"
    }
   },
   "outputs": [],
   "source": [
    "user = 'puzzlelists@gmail.com'\n",
    "password = 'gggoahqntwxenpbe'\n",
    "imap_url = 'imap.gmail.com'"
   ]
  },
  {
   "cell_type": "code",
   "execution_count": null,
   "metadata": {
    "pycharm": {
     "name": "#%%\n"
    }
   },
   "outputs": [],
   "source": [
    "# Importing libraries\n",
    "import imaplib, email\n",
    " \n",
    "user = 'puzzlelists@gmail.com'\n",
    "password = 'gggoahqntwxenpbe'\n",
    "imap_url = 'pop.gmail.com'\n",
    " \n",
    "# Function to get email content part i.e its body part\n",
    "def get_body(msg):\n",
    "    if msg.is_multipart():\n",
    "        return get_body(msg.get_payload(0))\n",
    "    else:\n",
    "        return msg.get_payload(None, True)\n",
    " \n",
    "# Function to search for a key value pair\n",
    "def search(key, value, con):\n",
    "    result, data = con.search(None, key, '\"{}\"'.format(value))\n",
    "    return data\n",
    " \n",
    "# Function to get the list of emails under this label\n",
    "def get_emails(result_bytes):\n",
    "    msgs = [] # all the email data are pushed inside an array\n",
    "    for num in result_bytes[0].split():\n",
    "        typ, data = con.fetch(num, '(RFC822)')\n",
    "        msgs.append(data)\n",
    " \n",
    "    return msgs\n",
    " \n",
    "# this is done to make SSL connection with GMAIL\n",
    "con = imaplib.IMAP4_SSL(imap_url)\n",
    " \n",
    "# logging the user in\n",
    "con.login(user, password)\n",
    " \n",
    "# calling function to check for email under this label\n",
    "con.select('Inbox')\n",
    " \n",
    " # fetching emails from this user \"tu**h*****1@gmail.com\"\n",
    "msgs = get_emails(search('FROM', 'MY_ANOTHER_GMAIL_ADDRESS', con))\n",
    " \n",
    "# Uncomment this to see what actually comes as data\n",
    "print(msgs)\n",
    " \n",
    " \n",
    "# Finding the required content from our msgs\n",
    "# User can make custom changes in this part to\n",
    "# fetch the required content he / she needs\n",
    " \n",
    "# printing them by the order they are displayed in your gmail\n",
    "for msg in msgs[::-1]:\n",
    "    for sent in msg:\n",
    "        if type(sent) is tuple:\n",
    " \n",
    "            # encoding set as utf-8\n",
    "            content = str(sent[1], 'utf-8')\n",
    "            data = str(content)\n",
    " \n",
    "            # Handling errors related to unicodenecode\n",
    "            try:\n",
    "                indexstart = data.find(\"ltr\")\n",
    "                data2 = data[indexstart + 5: len(data)]\n",
    "                indexend = data2.find(\"</div>\")\n",
    " \n",
    "                # printing the required content which we need\n",
    "                # to extract from our email i.e our body\n",
    "                print(data2[0: indexend])\n",
    " \n",
    "            except UnicodeEncodeError as e:\n",
    "                pass"
   ]
  },
  {
   "cell_type": "code",
   "execution_count": null,
   "metadata": {
    "pycharm": {
     "name": "#%%\n"
    }
   },
   "outputs": [],
   "source": [
    "msgs"
   ]
  },
  {
   "cell_type": "code",
   "execution_count": null,
   "metadata": {
    "pycharm": {
     "name": "#%%\n"
    }
   },
   "outputs": [],
   "source": [
    "import poplib\n",
    "import string, random\n",
    "import logging\n",
    "from io import StringIO\n",
    "\n",
    "SERVER = \"smtp.gmail.com\"\n",
    "USER  = user\n",
    "PASSWORD = password\n",
    "\n",
    "# connect to server\n",
    "logging.debug('connecting to ' + SERVER)\n",
    "server = poplib.POP3_SSL(SERVER)\n",
    "#server = poplib.POP3(SERVER)\n",
    "\n",
    "# log in\n",
    "logging.debug('log in')\n",
    "server.user(USER)\n",
    "server.pass_(PASSWORD)"
   ]
  },
  {
   "cell_type": "code",
   "execution_count": null,
   "metadata": {
    "pycharm": {
     "name": "#%%\n"
    }
   },
   "outputs": [],
   "source": [
    "# connect to server\n",
    "logging.debug('connecting to ' + SERVER)\n",
    "server = poplib.POP3_SSL(SERVER)\n",
    "#server = poplib.POP3(SERVER)\n",
    "\n",
    "# login\n",
    "logging.debug('logging in')\n",
    "server.user(USER)\n",
    "server.pass_(PASSWORD)\n",
    "\n",
    "# list items on server\n",
    "logging.debug('listing emails')\n",
    "resp, items, octets = server.list()\n",
    "\n",
    "# download the first message in the list\n",
    "id, size = items[0].split()\n",
    "resp, text, octets = server.retr(id)\n",
    "\n",
    "# convert list to Message object\n",
    "text = str.join(text, \"\\n\")\n",
    "file = StringIO.StringIO(text)\n",
    "message = rfc822.Message(file)\n",
    "\n",
    "# output message\n",
    "print(message['From']),\n",
    "print(message['Subject']),\n",
    "print(message['Date']),\n",
    "print(message.fp.read())   "
   ]
  },
  {
   "cell_type": "code",
   "execution_count": null,
   "metadata": {
    "pycharm": {
     "name": "#%%\n"
    }
   },
   "outputs": [],
   "source": [
    "# connect to server\n",
    "logging.debug('connecting to ' + SERVER)\n",
    "server = poplib.POP3_SSL(SERVER)\n",
    "#server = poplib.POP3(SERVER)\n",
    "\n",
    "# login\n",
    "logging.debug('logging in')\n",
    "server.user(USER)\n",
    "server.pass_(PASSWORD)"
   ]
  },
  {
   "cell_type": "code",
   "execution_count": null,
   "metadata": {
    "pycharm": {
     "name": "#%%\n"
    }
   },
   "outputs": [],
   "source": [
    "# connect to server\n",
    "logging.debug('connecting to ' + SERVER)\n",
    "server = poplib.POP3_SSL(SERVER)\n",
    "#server = poplib.POP3(SERVER)\n",
    "\n",
    "# login\n",
    "logging.debug('logging in')\n",
    "server.user(USER)\n",
    "server.pass_(PASSWORD)\n",
    "\n",
    "# list items on server\n",
    "logging.debug('listing emails')\n",
    "resp, items, octets = server.list()"
   ]
  },
  {
   "cell_type": "code",
   "execution_count": null,
   "metadata": {
    "pycharm": {
     "name": "#%%\n"
    }
   },
   "outputs": [],
   "source": [
    "resp"
   ]
  },
  {
   "cell_type": "code",
   "execution_count": null,
   "metadata": {
    "pycharm": {
     "name": "#%%\n"
    }
   },
   "outputs": [],
   "source": [
    "items"
   ]
  },
  {
   "cell_type": "code",
   "execution_count": null,
   "metadata": {
    "pycharm": {
     "name": "#%%\n"
    }
   },
   "outputs": [],
   "source": [
    "octets"
   ]
  },
  {
   "cell_type": "code",
   "execution_count": null,
   "metadata": {
    "pycharm": {
     "name": "#%%\n"
    }
   },
   "outputs": [],
   "source": [
    "# download the first message in the list\n",
    "items[0]"
   ]
  },
  {
   "cell_type": "code",
   "execution_count": null,
   "metadata": {
    "pycharm": {
     "name": "#%%\n"
    }
   },
   "outputs": [],
   "source": [
    "\n",
    "# download the first message in the list\n",
    "id, size = items[0].split()"
   ]
  },
  {
   "cell_type": "code",
   "execution_count": null,
   "metadata": {
    "pycharm": {
     "name": "#%%\n"
    }
   },
   "outputs": [],
   "source": [
    "server.retr(id)"
   ]
  },
  {
   "cell_type": "code",
   "execution_count": null,
   "metadata": {
    "pycharm": {
     "name": "#%%\n"
    }
   },
   "outputs": [],
   "source": [
    "import imaplib\n",
    "import email\n",
    "from email.header import decode_header\n",
    "import webbrowser\n",
    "import os\n",
    "\n",
    "# account credentials\n",
    "username = \"krishnaraj.kpt@outlook.com\"\n",
    "password = \"BBQtJTSs8uQh57aw\"\n",
    "# use your email provider's IMAP server, you can look for your provider's IMAP server on Google\n",
    "# or check this page: https://www.systoolsgroup.com/imap/\n",
    "# for office 365, it's this:\n",
    "imap_server = \"outlook.office365.com\"\n",
    "\n",
    "def clean(text):\n",
    "    # clean text for creating a folder\n",
    "    return \"\".join(c if c.isalnum() else \"_\" for c in text)\n",
    "# create an IMAP4 class with SSL \n",
    "imap = imaplib.IMAP4_SSL(imap_server)\n",
    "# authenticate\n",
    "imap.login(username, password)\n",
    "status, messages = imap.select(\"INBOX\")\n",
    "# number of top emails to fetch\n",
    "N = 850\n",
    "# total number of emails\n",
    "messages = int(messages[0])\n",
    "print(messages)\n",
    "for i in range(messages, messages-N, -1):\n",
    "    # fetch the email message by ID\n",
    "    res, msg = imap.fetch(str(i), \"(RFC822)\")\n",
    "    for response in msg:\n",
    "        try: \n",
    "            if isinstance(response, tuple):\n",
    "                # parse a bytes email into a message object\n",
    "                msg = email.message_from_bytes(response[1])\n",
    "                # decode the email subject\n",
    "                subject, encoding = decode_header(msg[\"Subject\"])[0]\n",
    "                if isinstance(subject, bytes):\n",
    "                    # if it's a bytes, decode to str\n",
    "                    subject = subject.decode(encoding)\n",
    "                # decode email sender\n",
    "                From, encoding = decode_header(msg.get(\"From\"))[0]\n",
    "                print(encoding)\n",
    "                if isinstance(From, bytes):\n",
    "                    From = From.decode(encoding)\n",
    "                print(\"Subject:\", subject)\n",
    "                print(\"From:\", From)\n",
    "                # if the email message is multipart\n",
    "                if msg.is_multipart():\n",
    "                    # iterate over email parts\n",
    "                    for part in msg.walk():\n",
    "                        # print(\"testing\", part.as_string())\n",
    "                        # extract content type of email\n",
    "                        content_type = part.get_content_type()\n",
    "                        content_disposition = str(part.get(\"Content-Disposition\"))\n",
    "                        try:\n",
    "                            # get the email body\n",
    "                            body = part.get_payload(decode=True).decode()\n",
    "                        except:\n",
    "                            pass\n",
    "                        if content_type == \"text/plain\" and \"attachment\" not in content_disposition:\n",
    "                            # print text/plain emails and skip attachments\n",
    "                            print(body)\n",
    "                        elif \"attachment\" in content_disposition:\n",
    "                            # download attachment\n",
    "                            filename = part.get_filename()\n",
    "                            if filename:\n",
    "                                folder_name = clean(subject)\n",
    "                                if not os.path.isdir(folder_name):\n",
    "                                    # make a folder for this email (named after the subject)\n",
    "                                    os.mkdir(folder_name)\n",
    "                                filepath = os.path.join(folder_name, filename)\n",
    "                                # download attachment and save it\n",
    "                                open(filepath, \"wb\").write(part.get_payload(decode=True))\n",
    "                else:\n",
    "                    # extract content type of email\n",
    "                    content_type = msg.get_content_type()\n",
    "                    # get the email body\n",
    "                    body = msg.get_payload(decode=True).decode()\n",
    "                    if content_type == \"text/plain\":\n",
    "                        # print only text email parts\n",
    "                        print(body)\n",
    "                \n",
    "                print(\"=\"*100)\n",
    "        except:\n",
    "            pass\n",
    "# close the connection and logout\n",
    "imap.close()\n",
    "imap.logout()"
   ]
  },
  {
   "cell_type": "code",
   "execution_count": null,
   "metadata": {
    "pycharm": {
     "name": "#%%\n"
    }
   },
   "outputs": [],
   "source": [
    "import imaplib\n",
    "import email\n",
    "from email.header import decode_header\n",
    "import webbrowser\n",
    "import os\n",
    "\n",
    "# account credentials\n",
    "username = \"puzzlelists@gmail.com\"\n",
    "password = \"gggoahqntwxenpbe\"\n",
    "# use your email provider's IMAP server, you can look for your provider's IMAP server on Google\n",
    "# or check this page: https://www.systoolsgroup.com/imap/\n",
    "# for office 365, it's this:\n",
    "imap_server = \"smtp.gmail.com\"\n",
    "\n",
    "def clean(text):\n",
    "    # clean text for creating a folder\n",
    "    return \"\".join(c if c.isalnum() else \"_\" for c in text)\n",
    "# create an IMAP4 class with SSL \n",
    "imap = imaplib.IMAP4_SSL(imap_server)\n",
    "# authenticate\n",
    "imap.login(username, password)\n",
    "status, messages = imap.select(\"INBOX\")\n",
    "# number of top emails to fetch\n",
    "N = 1\n",
    "# total number of emails\n",
    "messages = int(messages[0])\n",
    "for i in range(messages, messages-N, -1):\n",
    "    # fetch the email message by ID\n",
    "    res, msg = imap.fetch(str(i), \"(RFC822)\")\n",
    "    for response in msg:\n",
    "        if isinstance(response, tuple):\n",
    "            # parse a bytes email into a message object\n",
    "            msg = email.message_from_bytes(response[1])\n",
    "            # decode the email subject\n",
    "            subject, encoding = decode_header(msg[\"Subject\"])[0]\n",
    "            if isinstance(subject, bytes):\n",
    "                # if it's a bytes, decode to str\n",
    "                subject = subject.decode(encoding)\n",
    "            # decode email sender\n",
    "            From, encoding = decode_header(msg.get(\"From\"))[0]\n",
    "            print(encoding)\n",
    "            if isinstance(From, bytes):\n",
    "                From = From.decode(encoding)\n",
    "            print(\"Subject:\", subject)\n",
    "            print(\"From:\", From)\n",
    "            # if the email message is multipart\n",
    "            if msg.is_multipart():\n",
    "                # iterate over email parts\n",
    "                for part in msg.walk():\n",
    "                    print(\"testing\", part.as_string())"
   ]
  },
  {
   "cell_type": "code",
   "execution_count": null,
   "metadata": {
    "pycharm": {
     "name": "#%%\n"
    }
   },
   "outputs": [],
   "source": [
    "import imaplib\n",
    "import email\n",
    "from email.header import decode_header\n",
    "import os\n",
    "import csv\n",
    "\n",
    "def clean(text):\n",
    "    # clean text for creating a folder\n",
    "    return \"\".join(c if c.isalnum() else \"_\" for c in text)\n",
    "\n",
    "imap = imaplib.IMAP4_SSL(imap_server)\n",
    "\n",
    "# authenticate\n",
    "imap.login(username, password)\n",
    "status, messages = imap.select(\"INBOX\")\n",
    "\n",
    "# number of top emails to fetch\n",
    "N = 850\n",
    "\n",
    "# total number of emails\n",
    "messages = int(messages[0])\n",
    "\n",
    "# CSV file setup\n",
    "csv_filename = \"email_details.csv\"\n",
    "csv_columns = [\"Subject\", \"From\", \"Content\"]\n",
    "csv_rows = []\n",
    "\n",
    "for i in range(messages, messages - N, -1):\n",
    "    # fetch the email message by ID\n",
    "    res, msg = imap.fetch(str(i), \"(RFC822)\")\n",
    "    for response in msg:\n",
    "        try:\n",
    "            if isinstance(response, tuple):\n",
    "                # parse a bytes email into a message object\n",
    "                msg = email.message_from_bytes(response[1])\n",
    "\n",
    "                # decode the email subject\n",
    "                subject, encoding = decode_header(msg[\"Subject\"])[0]\n",
    "                if isinstance(subject, bytes):\n",
    "                    # if it's bytes, decode to str\n",
    "                    subject = subject.decode(encoding)\n",
    "\n",
    "                # decode email sender\n",
    "                From, encoding = decode_header(msg.get(\"From\"))[0]\n",
    "                if isinstance(From, bytes):\n",
    "                    From = From.decode(encoding)\n",
    "\n",
    "                # if the email message is multipart\n",
    "                if msg.is_multipart():\n",
    "                    # iterate over email parts\n",
    "                    for part in msg.walk():\n",
    "                        content_type = part.get_content_type()\n",
    "                        content_disposition = str(part.get(\"Content-Disposition\"))\n",
    "\n",
    "                        try:\n",
    "                            # get the email body\n",
    "                            body = part.get_payload(decode=True).decode()\n",
    "                        except:\n",
    "                            pass\n",
    "\n",
    "                        # Append details to CSV rows\n",
    "                        csv_rows.append({\"Subject\": subject, \"From\": From, \"Content\": body})\n",
    "\n",
    "                else:\n",
    "                    # extract content type of email\n",
    "                    content_type = msg.get_content_type()\n",
    "                    # get the email body\n",
    "                    body = msg.get_payload(decode=True).decode()\n",
    "\n",
    "                    # Append details to CSV rows\n",
    "                    csv_rows.append({\"Subject\": subject, \"From\": From, \"Content\": body})\n",
    "\n",
    "        except Exception as e:\n",
    "            print(f\"Error processing email: {e}\")\n",
    "\n",
    "# close the connection and logout\n",
    "imap.close()\n",
    "imap.logout()\n",
    "\n",
    "# Write CSV file\n",
    "with open(csv_filename, 'w', newline='') as csvfile:\n",
    "    writer = csv.DictWriter(csvfile, fieldnames=csv_columns)\n",
    "    writer.writeheader()\n",
    "    for row in csv_rows:\n",
    "        writer.writerow(row)\n",
    "\n",
    "print(f\"Email details exported to {csv_filename}\")\n"
   ]
  },
  {
   "cell_type": "code",
   "execution_count": 12,
   "metadata": {
    "pycharm": {
     "name": "#%%\n"
    }
   },
   "outputs": [
    {
     "data": {
      "text/plain": [
       "('BYE', [b'Microsoft Exchange Server IMAP4 server signing off.'])"
      ]
     },
     "execution_count": 12,
     "metadata": {},
     "output_type": "execute_result"
    }
   ],
   "source": [
    "import imaplib\n",
    "import email\n",
    "import csv\n",
    "\n",
    "# connect to the IMAP server\n",
    "mail = imaplib.IMAP4_SSL('imap-mail.outlook.com')\n",
    "mail.login('krishnaraj.kpt@outlook.com', \"BBQtJTSs8uQh57aw\")\n",
    "mail.select('inbox')\n",
    "\n",
    "# search for all emails\n",
    "status, data = mail.search(None, 'ALL')\n",
    "mail_ids = data[0].split()\n",
    "\n",
    "# create CSV files for headers and information\n",
    "with open('headers.csv', 'w', newline='') as headers_file, open('information.csv', 'w', newline='') as info_file:\n",
    "    headers_writer = csv.writer(headers_file)\n",
    "    info_writer = csv.writer(info_file)\n",
    "\n",
    "    # write headers to CSV files\n",
    "    headers_writer.writerow(['Message ID', 'Date', 'From', 'To', 'Subject'])\n",
    "    info_writer.writerow(['Message ID', 'Date', 'From', 'To', 'Subject'])\n",
    "\n",
    "    # iterate over all emails\n",
    "    for mail_id in mail_ids:\n",
    "        # fetch the email\n",
    "        status, data = mail.fetch(mail_id, '(RFC822)')\n",
    "        raw_email = data[0][1]\n",
    "\n",
    "        # parse the email\n",
    "        email_message = email.message_from_bytes(raw_email)\n",
    "\n",
    "        # extract headers and information\n",
    "        message_id = email_message['Message-ID']\n",
    "        date = email_message['Date']\n",
    "        sender = email_message['From']\n",
    "        recipient = email_message['To']\n",
    "        subject = email_message['Subject']\n",
    "\n",
    "        # write headers and information to CSV files\n",
    "        headers_writer.writerow([message_id, date, sender, recipient, subject])\n",
    "        info_writer.writerow([message_id, date, sender, recipient, subject])\n",
    "\n",
    "# close the connection to the IMAP server\n",
    "mail.close()\n",
    "mail.logout()"
   ]
  },
  {
   "cell_type": "code",
   "execution_count": null,
   "metadata": {
    "pycharm": {
     "name": "#%%\n"
    }
   },
   "outputs": [],
   "source": []
  }
 ],
 "metadata": {
  "kernelspec": {
   "display_name": "Python 3.10.2 64-bit",
   "language": "python",
   "name": "python3"
  },
  "language_info": {
   "codemirror_mode": {
    "name": "ipython",
    "version": 3
   },
   "file_extension": ".py",
   "mimetype": "text/x-python",
   "name": "python",
   "nbconvert_exporter": "python",
   "pygments_lexer": "ipython3",
   "version": "3.11.5"
  },
  "orig_nbformat": 4,
  "vscode": {
   "interpreter": {
    "hash": "e4ba08aa27a50dfc4411e691f4a22a11e700bce603ba8e16cecc3bc830c9da89"
   }
  }
 },
 "nbformat": 4,
 "nbformat_minor": 2
}